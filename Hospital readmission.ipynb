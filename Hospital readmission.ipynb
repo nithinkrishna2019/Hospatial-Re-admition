{
 "cells": [
  {
   "cell_type": "code",
   "execution_count": 1,
   "metadata": {},
   "outputs": [],
   "source": [
    "import os\n",
    "import pandas as pd\n",
    "import numpy as np"
   ]
  },
  {
   "cell_type": "code",
   "execution_count": 2,
   "metadata": {},
   "outputs": [
    {
     "data": {
      "text/plain": [
       "'C:\\\\Users\\\\nithinkrishna\\\\Desktop\\\\kaggel dataset\\\\To Insofe\\\\To Insofe\\\\Casestudy'"
      ]
     },
     "execution_count": 2,
     "metadata": {},
     "output_type": "execute_result"
    }
   ],
   "source": [
    "pwd"
   ]
  },
  {
   "cell_type": "code",
   "execution_count": 3,
   "metadata": {},
   "outputs": [],
   "source": [
    "re_ad=pd.read_excel(\"Readmission dataset.xlsx\",na_values=[\"?\",\",\",\"#\",\"unknown\"])"
   ]
  },
  {
   "cell_type": "code",
   "execution_count": 4,
   "metadata": {},
   "outputs": [
    {
     "data": {
      "text/plain": [
       "(36538, 43)"
      ]
     },
     "execution_count": 4,
     "metadata": {},
     "output_type": "execute_result"
    }
   ],
   "source": [
    "re_ad.shape"
   ]
  },
  {
   "cell_type": "code",
   "execution_count": 5,
   "metadata": {},
   "outputs": [
    {
     "data": {
      "text/html": [
       "<div>\n",
       "<style scoped>\n",
       "    .dataframe tbody tr th:only-of-type {\n",
       "        vertical-align: middle;\n",
       "    }\n",
       "\n",
       "    .dataframe tbody tr th {\n",
       "        vertical-align: top;\n",
       "    }\n",
       "\n",
       "    .dataframe thead th {\n",
       "        text-align: right;\n",
       "    }\n",
       "</style>\n",
       "<table border=\"1\" class=\"dataframe\">\n",
       "  <thead>\n",
       "    <tr style=\"text-align: right;\">\n",
       "      <th></th>\n",
       "      <th>Patient_Nbr</th>\n",
       "      <th>Race</th>\n",
       "      <th>Gender</th>\n",
       "      <th>Age</th>\n",
       "      <th>Weight</th>\n",
       "      <th>Admission Type</th>\n",
       "      <th>Discharge Disposition</th>\n",
       "      <th>Admission Source</th>\n",
       "      <th>Days In Hospital</th>\n",
       "      <th>Payer_Code</th>\n",
       "      <th>...</th>\n",
       "      <th>Citoglipton</th>\n",
       "      <th>Insulin</th>\n",
       "      <th>Glyburide-Metformin</th>\n",
       "      <th>Glipizide-Metformin</th>\n",
       "      <th>Glimepiride-Pioglitazone</th>\n",
       "      <th>Metformin-Rosiglitazone</th>\n",
       "      <th>Metformin-Pioglitazone</th>\n",
       "      <th>Change</th>\n",
       "      <th>Diabetesmed</th>\n",
       "      <th>Readmitted</th>\n",
       "    </tr>\n",
       "  </thead>\n",
       "  <tbody>\n",
       "    <tr>\n",
       "      <th>0</th>\n",
       "      <td>8390</td>\n",
       "      <td>Caucasian</td>\n",
       "      <td>Male</td>\n",
       "      <td>[70-80)</td>\n",
       "      <td>Unknown</td>\n",
       "      <td>Not Available</td>\n",
       "      <td>Discharged</td>\n",
       "      <td>Not Available</td>\n",
       "      <td>Below 3</td>\n",
       "      <td>Unknown</td>\n",
       "      <td>...</td>\n",
       "      <td>No</td>\n",
       "      <td>No</td>\n",
       "      <td>No</td>\n",
       "      <td>No</td>\n",
       "      <td>No</td>\n",
       "      <td>No</td>\n",
       "      <td>No</td>\n",
       "      <td>No</td>\n",
       "      <td>No</td>\n",
       "      <td>Yes</td>\n",
       "    </tr>\n",
       "    <tr>\n",
       "      <th>1</th>\n",
       "      <td>20012</td>\n",
       "      <td>Caucasian</td>\n",
       "      <td>Male</td>\n",
       "      <td>[60-70)</td>\n",
       "      <td>Unknown</td>\n",
       "      <td>Not Available</td>\n",
       "      <td>Discharged</td>\n",
       "      <td>Not Available</td>\n",
       "      <td>Between 03 to 06</td>\n",
       "      <td>HM</td>\n",
       "      <td>...</td>\n",
       "      <td>No</td>\n",
       "      <td>Steady</td>\n",
       "      <td>No</td>\n",
       "      <td>No</td>\n",
       "      <td>No</td>\n",
       "      <td>No</td>\n",
       "      <td>No</td>\n",
       "      <td>No</td>\n",
       "      <td>Yes</td>\n",
       "      <td>Yes</td>\n",
       "    </tr>\n",
       "    <tr>\n",
       "      <th>2</th>\n",
       "      <td>50903</td>\n",
       "      <td>Caucasian</td>\n",
       "      <td>Female</td>\n",
       "      <td>[70-80)</td>\n",
       "      <td>Unknown</td>\n",
       "      <td>Emergency</td>\n",
       "      <td>Discharged</td>\n",
       "      <td>Referral</td>\n",
       "      <td>Between 03 to 06</td>\n",
       "      <td>Unknown</td>\n",
       "      <td>...</td>\n",
       "      <td>No</td>\n",
       "      <td>No</td>\n",
       "      <td>No</td>\n",
       "      <td>No</td>\n",
       "      <td>No</td>\n",
       "      <td>No</td>\n",
       "      <td>No</td>\n",
       "      <td>No</td>\n",
       "      <td>No</td>\n",
       "      <td>Yes</td>\n",
       "    </tr>\n",
       "    <tr>\n",
       "      <th>3</th>\n",
       "      <td>50636</td>\n",
       "      <td>Caucasian</td>\n",
       "      <td>Male</td>\n",
       "      <td>[50-60)</td>\n",
       "      <td>Unknown</td>\n",
       "      <td>Not Available</td>\n",
       "      <td>Left AMA</td>\n",
       "      <td>Emergency Room</td>\n",
       "      <td>Below 3</td>\n",
       "      <td>Unknown</td>\n",
       "      <td>...</td>\n",
       "      <td>No</td>\n",
       "      <td>Steady</td>\n",
       "      <td>No</td>\n",
       "      <td>No</td>\n",
       "      <td>No</td>\n",
       "      <td>No</td>\n",
       "      <td>No</td>\n",
       "      <td>No</td>\n",
       "      <td>Yes</td>\n",
       "      <td>No</td>\n",
       "    </tr>\n",
       "    <tr>\n",
       "      <th>4</th>\n",
       "      <td>205</td>\n",
       "      <td>Caucasian</td>\n",
       "      <td>Female</td>\n",
       "      <td>[40-50)</td>\n",
       "      <td>Unknown</td>\n",
       "      <td>Emergency</td>\n",
       "      <td>Discharged</td>\n",
       "      <td>Emergency Room</td>\n",
       "      <td>Below 3</td>\n",
       "      <td>HM</td>\n",
       "      <td>...</td>\n",
       "      <td>No</td>\n",
       "      <td>Up</td>\n",
       "      <td>No</td>\n",
       "      <td>No</td>\n",
       "      <td>No</td>\n",
       "      <td>No</td>\n",
       "      <td>No</td>\n",
       "      <td>Ch</td>\n",
       "      <td>Yes</td>\n",
       "      <td>No</td>\n",
       "    </tr>\n",
       "  </tbody>\n",
       "</table>\n",
       "<p>5 rows × 43 columns</p>\n",
       "</div>"
      ],
      "text/plain": [
       "   Patient_Nbr       Race  Gender      Age   Weight Admission Type  \\\n",
       "0         8390  Caucasian    Male  [70-80)  Unknown  Not Available   \n",
       "1        20012  Caucasian    Male  [60-70)  Unknown  Not Available   \n",
       "2        50903  Caucasian  Female  [70-80)  Unknown      Emergency   \n",
       "3        50636  Caucasian    Male  [50-60)  Unknown  Not Available   \n",
       "4          205  Caucasian  Female  [40-50)  Unknown      Emergency   \n",
       "\n",
       "  Discharge Disposition Admission Source  Days In Hospital Payer_Code  ...  \\\n",
       "0            Discharged    Not Available           Below 3    Unknown  ...   \n",
       "1            Discharged    Not Available  Between 03 to 06         HM  ...   \n",
       "2            Discharged         Referral  Between 03 to 06    Unknown  ...   \n",
       "3              Left AMA   Emergency Room           Below 3    Unknown  ...   \n",
       "4            Discharged   Emergency Room           Below 3         HM  ...   \n",
       "\n",
       "  Citoglipton  Insulin  Glyburide-Metformin  Glipizide-Metformin  \\\n",
       "0          No       No                   No                   No   \n",
       "1          No   Steady                   No                   No   \n",
       "2          No       No                   No                   No   \n",
       "3          No   Steady                   No                   No   \n",
       "4          No       Up                   No                   No   \n",
       "\n",
       "  Glimepiride-Pioglitazone Metformin-Rosiglitazone Metformin-Pioglitazone  \\\n",
       "0                       No                      No                     No   \n",
       "1                       No                      No                     No   \n",
       "2                       No                      No                     No   \n",
       "3                       No                      No                     No   \n",
       "4                       No                      No                     No   \n",
       "\n",
       "  Change Diabetesmed Readmitted  \n",
       "0     No          No        Yes  \n",
       "1     No         Yes        Yes  \n",
       "2     No          No        Yes  \n",
       "3     No         Yes         No  \n",
       "4     Ch         Yes         No  \n",
       "\n",
       "[5 rows x 43 columns]"
      ]
     },
     "execution_count": 5,
     "metadata": {},
     "output_type": "execute_result"
    }
   ],
   "source": [
    "re_ad.head()"
   ]
  },
  {
   "cell_type": "code",
   "execution_count": 6,
   "metadata": {},
   "outputs": [],
   "source": [
    "test_re_ad=pd.read_excel(\"Readmission dataset - Score.xlsx\",na_values=[\"?\",\",\",\"#\",\"unknown\"])"
   ]
  },
  {
   "cell_type": "code",
   "execution_count": 7,
   "metadata": {},
   "outputs": [
    {
     "data": {
      "text/plain": [
       "(2035, 42)"
      ]
     },
     "execution_count": 7,
     "metadata": {},
     "output_type": "execute_result"
    }
   ],
   "source": [
    "test_re_ad.shape"
   ]
  },
  {
   "cell_type": "code",
   "execution_count": 8,
   "metadata": {},
   "outputs": [
    {
     "data": {
      "text/html": [
       "<div>\n",
       "<style scoped>\n",
       "    .dataframe tbody tr th:only-of-type {\n",
       "        vertical-align: middle;\n",
       "    }\n",
       "\n",
       "    .dataframe tbody tr th {\n",
       "        vertical-align: top;\n",
       "    }\n",
       "\n",
       "    .dataframe thead th {\n",
       "        text-align: right;\n",
       "    }\n",
       "</style>\n",
       "<table border=\"1\" class=\"dataframe\">\n",
       "  <thead>\n",
       "    <tr style=\"text-align: right;\">\n",
       "      <th></th>\n",
       "      <th>Patient_Nbr</th>\n",
       "      <th>Race</th>\n",
       "      <th>Gender</th>\n",
       "      <th>Age</th>\n",
       "      <th>Weight</th>\n",
       "      <th>Admission Type</th>\n",
       "      <th>Discharge Disposition</th>\n",
       "      <th>Admission Source</th>\n",
       "      <th>Days In Hospital</th>\n",
       "      <th>Payer_Code</th>\n",
       "      <th>...</th>\n",
       "      <th>Examide</th>\n",
       "      <th>Citoglipton</th>\n",
       "      <th>Insulin</th>\n",
       "      <th>Glyburide-Metformin</th>\n",
       "      <th>Glipizide-Metformin</th>\n",
       "      <th>Glimepiride-Pioglitazone</th>\n",
       "      <th>Metformin-Rosiglitazone</th>\n",
       "      <th>Metformin-Pioglitazone</th>\n",
       "      <th>Change</th>\n",
       "      <th>Diabetesmed</th>\n",
       "    </tr>\n",
       "  </thead>\n",
       "  <tbody>\n",
       "    <tr>\n",
       "      <th>0</th>\n",
       "      <td>12866</td>\n",
       "      <td>Caucasian</td>\n",
       "      <td>Male</td>\n",
       "      <td>[80-90)</td>\n",
       "      <td>Unknown</td>\n",
       "      <td>Not Available</td>\n",
       "      <td>Discharged</td>\n",
       "      <td>Referral</td>\n",
       "      <td>Above 9</td>\n",
       "      <td>Unknown</td>\n",
       "      <td>...</td>\n",
       "      <td>No</td>\n",
       "      <td>No</td>\n",
       "      <td>Steady</td>\n",
       "      <td>No</td>\n",
       "      <td>No</td>\n",
       "      <td>No</td>\n",
       "      <td>No</td>\n",
       "      <td>No</td>\n",
       "      <td>Ch</td>\n",
       "      <td>Yes</td>\n",
       "    </tr>\n",
       "    <tr>\n",
       "      <th>1</th>\n",
       "      <td>27788</td>\n",
       "      <td>Caucasian</td>\n",
       "      <td>Male</td>\n",
       "      <td>[50-60)</td>\n",
       "      <td>Unknown</td>\n",
       "      <td>Emergency</td>\n",
       "      <td>Discharged</td>\n",
       "      <td>Emergency Room</td>\n",
       "      <td>Between 03 to 06</td>\n",
       "      <td>MC</td>\n",
       "      <td>...</td>\n",
       "      <td>No</td>\n",
       "      <td>No</td>\n",
       "      <td>Down</td>\n",
       "      <td>No</td>\n",
       "      <td>No</td>\n",
       "      <td>No</td>\n",
       "      <td>No</td>\n",
       "      <td>No</td>\n",
       "      <td>Ch</td>\n",
       "      <td>Yes</td>\n",
       "    </tr>\n",
       "    <tr>\n",
       "      <th>2</th>\n",
       "      <td>50211</td>\n",
       "      <td>Caucasian</td>\n",
       "      <td>Female</td>\n",
       "      <td>[40-50)</td>\n",
       "      <td>Unknown</td>\n",
       "      <td>Emergency</td>\n",
       "      <td>Discharged</td>\n",
       "      <td>Referral</td>\n",
       "      <td>Below 3</td>\n",
       "      <td>HM</td>\n",
       "      <td>...</td>\n",
       "      <td>No</td>\n",
       "      <td>No</td>\n",
       "      <td>No</td>\n",
       "      <td>No</td>\n",
       "      <td>No</td>\n",
       "      <td>No</td>\n",
       "      <td>No</td>\n",
       "      <td>No</td>\n",
       "      <td>No</td>\n",
       "      <td>No</td>\n",
       "    </tr>\n",
       "    <tr>\n",
       "      <th>3</th>\n",
       "      <td>79</td>\n",
       "      <td>Caucasian</td>\n",
       "      <td>Male</td>\n",
       "      <td>[80-90)</td>\n",
       "      <td>Unknown</td>\n",
       "      <td>Emergency</td>\n",
       "      <td>Discharged</td>\n",
       "      <td>Emergency Room</td>\n",
       "      <td>Between 03 to 06</td>\n",
       "      <td>MC</td>\n",
       "      <td>...</td>\n",
       "      <td>No</td>\n",
       "      <td>No</td>\n",
       "      <td>No</td>\n",
       "      <td>No</td>\n",
       "      <td>No</td>\n",
       "      <td>No</td>\n",
       "      <td>No</td>\n",
       "      <td>No</td>\n",
       "      <td>No</td>\n",
       "      <td>Yes</td>\n",
       "    </tr>\n",
       "    <tr>\n",
       "      <th>4</th>\n",
       "      <td>47633</td>\n",
       "      <td>Caucasian</td>\n",
       "      <td>Female</td>\n",
       "      <td>[70-80)</td>\n",
       "      <td>Unknown</td>\n",
       "      <td>Not Available</td>\n",
       "      <td>Discharged</td>\n",
       "      <td>Not Available</td>\n",
       "      <td>Between 03 to 06</td>\n",
       "      <td>Unknown</td>\n",
       "      <td>...</td>\n",
       "      <td>No</td>\n",
       "      <td>No</td>\n",
       "      <td>No</td>\n",
       "      <td>No</td>\n",
       "      <td>No</td>\n",
       "      <td>No</td>\n",
       "      <td>No</td>\n",
       "      <td>No</td>\n",
       "      <td>No</td>\n",
       "      <td>Yes</td>\n",
       "    </tr>\n",
       "  </tbody>\n",
       "</table>\n",
       "<p>5 rows × 42 columns</p>\n",
       "</div>"
      ],
      "text/plain": [
       "   Patient_Nbr       Race  Gender      Age   Weight Admission Type  \\\n",
       "0        12866  Caucasian    Male  [80-90)  Unknown  Not Available   \n",
       "1        27788  Caucasian    Male  [50-60)  Unknown      Emergency   \n",
       "2        50211  Caucasian  Female  [40-50)  Unknown      Emergency   \n",
       "3           79  Caucasian    Male  [80-90)  Unknown      Emergency   \n",
       "4        47633  Caucasian  Female  [70-80)  Unknown  Not Available   \n",
       "\n",
       "  Discharge Disposition Admission Source  Days In Hospital Payer_Code  ...  \\\n",
       "0            Discharged         Referral           Above 9    Unknown  ...   \n",
       "1            Discharged   Emergency Room  Between 03 to 06         MC  ...   \n",
       "2            Discharged         Referral           Below 3         HM  ...   \n",
       "3            Discharged   Emergency Room  Between 03 to 06         MC  ...   \n",
       "4            Discharged    Not Available  Between 03 to 06    Unknown  ...   \n",
       "\n",
       "  Examide  Citoglipton  Insulin  Glyburide-Metformin Glipizide-Metformin  \\\n",
       "0      No           No   Steady                   No                  No   \n",
       "1      No           No     Down                   No                  No   \n",
       "2      No           No       No                   No                  No   \n",
       "3      No           No       No                   No                  No   \n",
       "4      No           No       No                   No                  No   \n",
       "\n",
       "  Glimepiride-Pioglitazone Metformin-Rosiglitazone Metformin-Pioglitazone  \\\n",
       "0                       No                      No                     No   \n",
       "1                       No                      No                     No   \n",
       "2                       No                      No                     No   \n",
       "3                       No                      No                     No   \n",
       "4                       No                      No                     No   \n",
       "\n",
       "  Change Diabetesmed  \n",
       "0     Ch         Yes  \n",
       "1     Ch         Yes  \n",
       "2     No          No  \n",
       "3     No         Yes  \n",
       "4     No         Yes  \n",
       "\n",
       "[5 rows x 42 columns]"
      ]
     },
     "execution_count": 8,
     "metadata": {},
     "output_type": "execute_result"
    }
   ],
   "source": [
    "test_re_ad.head()"
   ]
  },
  {
   "cell_type": "markdown",
   "metadata": {},
   "source": [
    "# EDA"
   ]
  },
  {
   "cell_type": "markdown",
   "metadata": {},
   "source": [
    "# it is clear from the below plot that the Readmitted patients are low in data provided by the hospital"
   ]
  },
  {
   "cell_type": "code",
   "execution_count": 9,
   "metadata": {},
   "outputs": [],
   "source": [
    " import seaborn as sns"
   ]
  },
  {
   "cell_type": "code",
   "execution_count": 10,
   "metadata": {},
   "outputs": [
    {
     "name": "stdout",
     "output_type": "stream",
     "text": [
      "Yes    25432\n",
      "No     11106\n",
      "Name: Readmitted, dtype: int64\n",
      "Percentage of people who have taken the readmission: 0.0 %\n"
     ]
    },
    {
     "data": {
      "image/png": "[encoded data removed]",
      "text/plain": [
       "<Figure size 432x288 with 1 Axes>"
      ]
     },
     "metadata": {
      "needs_background": "light"
     },
     "output_type": "display_data"
    }
   ],
   "source": [
    "# Plot Distribution\n",
    "sns.countplot(x='Readmitted',data=re_ad)\n",
    "\n",
    "\n",
    "# What are the counts?\n",
    "print(re_ad.Readmitted.value_counts())\n",
    "\n",
    "# What is the percentage?\n",
    "count_yes = len(re_ad[re_ad.Readmitted == 'yes'])\n",
    "count_no = len(re_ad[re_ad.Readmitted != 'yes'])\n",
    "\n",
    "percent_success = (count_yes/(count_yes + count_no))*100\n",
    "\n",
    "print('Percentage of people who have taken the readmission:', percent_success, \"%\")"
   ]
  },
  {
   "cell_type": "code",
   "execution_count": 11,
   "metadata": {},
   "outputs": [
    {
     "data": {
      "text/html": [
       "<div>\n",
       "<style scoped>\n",
       "    .dataframe tbody tr th:only-of-type {\n",
       "        vertical-align: middle;\n",
       "    }\n",
       "\n",
       "    .dataframe tbody tr th {\n",
       "        vertical-align: top;\n",
       "    }\n",
       "\n",
       "    .dataframe thead th {\n",
       "        text-align: right;\n",
       "    }\n",
       "</style>\n",
       "<table border=\"1\" class=\"dataframe\">\n",
       "  <thead>\n",
       "    <tr style=\"text-align: right;\">\n",
       "      <th></th>\n",
       "      <th>Patient_Nbr</th>\n",
       "      <th>Num_Lab_Procedures</th>\n",
       "      <th>Num_Procedures</th>\n",
       "      <th>Num_Medications</th>\n",
       "    </tr>\n",
       "    <tr>\n",
       "      <th>Readmitted</th>\n",
       "      <th></th>\n",
       "      <th></th>\n",
       "      <th></th>\n",
       "      <th></th>\n",
       "    </tr>\n",
       "  </thead>\n",
       "  <tbody>\n",
       "    <tr>\n",
       "      <th>No</th>\n",
       "      <td>29239.499190</td>\n",
       "      <td>42.254007</td>\n",
       "      <td>1.332973</td>\n",
       "      <td>15.129750</td>\n",
       "    </tr>\n",
       "    <tr>\n",
       "      <th>Yes</th>\n",
       "      <td>29207.575889</td>\n",
       "      <td>44.476054</td>\n",
       "      <td>1.332219</td>\n",
       "      <td>16.390335</td>\n",
       "    </tr>\n",
       "  </tbody>\n",
       "</table>\n",
       "</div>"
      ],
      "text/plain": [
       "             Patient_Nbr  Num_Lab_Procedures  Num_Procedures  Num_Medications\n",
       "Readmitted                                                                   \n",
       "No          29239.499190           42.254007        1.332973        15.129750\n",
       "Yes         29207.575889           44.476054        1.332219        16.390335"
      ]
     },
     "execution_count": 11,
     "metadata": {},
     "output_type": "execute_result"
    }
   ],
   "source": [
    "re_ad.groupby('Readmitted').mean()"
   ]
  },
  {
   "cell_type": "markdown",
   "metadata": {},
   "source": [
    "# if the patient is staying in the hospital for a span of 3 to 6 days there is a possibility that he can be readmitted"
   ]
  },
  {
   "cell_type": "code",
   "execution_count": 12,
   "metadata": {},
   "outputs": [
    {
     "data": {
      "text/plain": [
       "<matplotlib.axes._subplots.AxesSubplot at 0x2de232eb240>"
      ]
     },
     "execution_count": 12,
     "metadata": {},
     "output_type": "execute_result"
    },
    {
     "data": {
      "image/png": "[encoded data removed]",
      "text/plain": [
       "<Figure size 432x288 with 1 Axes>"
      ]
     },
     "metadata": {
      "needs_background": "light"
     },
     "output_type": "display_data"
    }
   ],
   "source": [
    "counts= re_ad.groupby(['Days In Hospital', 'Readmitted']).Readmitted.count().unstack()\n",
    "counts.plot(kind='bar',stacked=True)"
   ]
  },
  {
   "cell_type": "code",
   "execution_count": 13,
   "metadata": {},
   "outputs": [
    {
     "data": {
      "text/plain": [
       "<matplotlib.axes._subplots.AxesSubplot at 0x2de23432f28>"
      ]
     },
     "execution_count": 13,
     "metadata": {},
     "output_type": "execute_result"
    },
    {
     "data": {
      "image/png": "[encoded data removed]",
      "text/plain": [
       "<Figure size 432x288 with 1 Axes>"
      ]
     },
     "metadata": {
      "needs_background": "light"
     },
     "output_type": "display_data"
    }
   ],
   "source": [
    "c= re_ad.groupby(['Gender', 'Readmitted']).Readmitted.count().unstack()\n",
    "c.plot(kind='bar',stacked=True)"
   ]
  },
  {
   "cell_type": "markdown",
   "metadata": {},
   "source": [
    "# females are more likely to be re-admitted than males"
   ]
  },
  {
   "cell_type": "code",
   "execution_count": 14,
   "metadata": {},
   "outputs": [
    {
     "name": "stdout",
     "output_type": "stream",
     "text": [
      "Readmitted           No      Yes\n",
      "Gender                          \n",
      "Female           5955.0  13958.0\n",
      "Male             5150.0  11474.0\n",
      "Unknown/Invalid     1.0      NaN\n"
     ]
    }
   ],
   "source": [
    "print(c)\n"
   ]
  },
  {
   "cell_type": "code",
   "execution_count": 15,
   "metadata": {},
   "outputs": [
    {
     "data": {
      "text/plain": [
       "<matplotlib.axes._subplots.AxesSubplot at 0x2de236c95f8>"
      ]
     },
     "execution_count": 15,
     "metadata": {},
     "output_type": "execute_result"
    },
    {
     "data": {
      "image/png": "[encoded data removed]",
      "text/plain": [
       "<Figure size 432x288 with 1 Axes>"
      ]
     },
     "metadata": {
      "needs_background": "light"
     },
     "output_type": "display_data"
    }
   ],
   "source": [
    "a= re_ad.groupby(['Age', 'Readmitted']).Readmitted.count().unstack()\n",
    "a.plot(kind='bar',stacked=True)"
   ]
  },
  {
   "cell_type": "markdown",
   "metadata": {},
   "source": [
    "# high readmission rate is within the age group of 70-80 which goes upto 6977 "
   ]
  },
  {
   "cell_type": "code",
   "execution_count": 16,
   "metadata": {},
   "outputs": [
    {
     "name": "stdout",
     "output_type": "stream",
     "text": [
      "Readmitted    No   Yes\n",
      "Age                   \n",
      "[0-10)        41     9\n",
      "[10-20)      135    90\n",
      "[20-30)      214   332\n",
      "[30-40)      487   815\n",
      "[40-50)     1184  2302\n",
      "[50-60)     1996  4200\n",
      "[60-70)     2433  5630\n",
      "[70-80)     2680  6977\n",
      "[80-90)     1672  4415\n",
      "[90-100)     264   662\n"
     ]
    }
   ],
   "source": [
    "print(a)"
   ]
  },
  {
   "cell_type": "markdown",
   "metadata": {},
   "source": [
    "# HIGH RATE OF READMISSION FOR THE PATIENTS WHO HAVE EXPERINECED A \"SURGERY\" IN THAT HOSPITAL WHICH GOES UPTO 12373"
   ]
  },
  {
   "cell_type": "code",
   "execution_count": 17,
   "metadata": {
    "scrolled": true
   },
   "outputs": [
    {
     "name": "stdout",
     "output_type": "stream",
     "text": [
      "Readmitted           No    Yes\n",
      "Medical_Specialty             \n",
      "Cardiology          799   2064\n",
      "Emergency           549   1703\n",
      "General Practice    950   2543\n",
      "InternalMedicine   2072   4302\n",
      "Nephrology          165    594\n",
      "Orthopedics         644    637\n",
      "Others              761   1025\n",
      "Radiology            95    191\n",
      "Surgery            5071  12373\n"
     ]
    },
    {
     "data": {
      "image/png": "[encoded data removed]",
      "text/plain": [
       "<Figure size 432x288 with 1 Axes>"
      ]
     },
     "metadata": {
      "needs_background": "light"
     },
     "output_type": "display_data"
    }
   ],
   "source": [
    "m= re_ad.groupby(['Medical_Specialty', 'Readmitted']).Readmitted.count().unstack()\n",
    "m.plot(kind='bar',stacked=True)\n",
    "print(m)"
   ]
  },
  {
   "cell_type": "markdown",
   "metadata": {},
   "source": [
    "# Caucasian RACE  has been the dominant race in terms of the readmission from the data provided by the hospital"
   ]
  },
  {
   "cell_type": "code",
   "execution_count": 18,
   "metadata": {
    "scrolled": true
   },
   "outputs": [
    {
     "name": "stdout",
     "output_type": "stream",
     "text": [
      "Readmitted         No    Yes\n",
      "Race                        \n",
      "AfricanAmerican  2573   5024\n",
      "Asian              56    111\n",
      "Caucasian        7788  19212\n",
      "Hispanic          215    475\n",
      "Other             164    297\n",
      "Unknown           310    313\n"
     ]
    },
    {
     "data": {
      "image/png": "[encoded data removed]",
      "text/plain": [
       "<Figure size 432x288 with 1 Axes>"
      ]
     },
     "metadata": {
      "needs_background": "light"
     },
     "output_type": "display_data"
    }
   ],
   "source": [
    "R= re_ad.groupby(['Race', 'Readmitted']).Readmitted.count().unstack()\n",
    "R.plot(kind='bar',stacked=True)\n",
    "print(R)"
   ]
  },
  {
   "cell_type": "markdown",
   "metadata": {},
   "source": [
    "# if a person has gone past more than 5 diagnoses he is likely to be re-admitted,because there is a chance of he being tested positive for one or the other test he has been tested for."
   ]
  },
  {
   "cell_type": "code",
   "execution_count": 19,
   "metadata": {},
   "outputs": [
    {
     "name": "stdout",
     "output_type": "stream",
     "text": [
      "Readmitted          No    Yes\n",
      "Number_Diagnoses             \n",
      "Above 5           6721  22747\n",
      "Below 3            309     55\n",
      "Between 03 to 05  4076   2630\n"
     ]
    },
    {
     "data": {
      "image/png": "[encoded data removed]",
      "text/plain": [
       "<Figure size 432x288 with 1 Axes>"
      ]
     },
     "metadata": {
      "needs_background": "light"
     },
     "output_type": "display_data"
    }
   ],
   "source": [
    "e= re_ad.groupby(['Number_Diagnoses', 'Readmitted']).Readmitted.count().unstack()\n",
    "e.plot(kind='bar',stacked=True)\n",
    "print(e)"
   ]
  },
  {
   "cell_type": "markdown",
   "metadata": {},
   "source": [
    "# The readmission seems to be high for the patient who has gone through a medication of 13,so we can have insight that if a patient has 13 medications he is likely to be readmitted more often than not"
   ]
  },
  {
   "cell_type": "code",
   "execution_count": 20,
   "metadata": {
    "scrolled": false
   },
   "outputs": [
    {
     "name": "stdout",
     "output_type": "stream",
     "text": [
      "Readmitted          No     Yes\n",
      "Num_Medications               \n",
      "1                 29.0    57.0\n",
      "2                 86.0    75.0\n",
      "3                151.0   143.0\n",
      "4                234.0   248.0\n",
      "5                302.0   380.0\n",
      "6                372.0   561.0\n",
      "7                437.0   790.0\n",
      "8                577.0  1041.0\n",
      "9                603.0  1180.0\n",
      "10               606.0  1317.0\n",
      "11               695.0  1465.0\n",
      "12               674.0  1490.0\n",
      "13               665.0  1606.0\n",
      "14               561.0  1471.0\n",
      "15               586.0  1476.0\n",
      "16               589.0  1465.0\n",
      "17               480.0  1309.0\n",
      "18               461.0  1180.0\n",
      "19               398.0  1058.0\n",
      "20               351.0   981.0\n",
      "21               297.0   826.0\n",
      "22               270.0   732.0\n",
      "23               225.0   644.0\n",
      "24               193.0   535.0\n",
      "25               175.0   473.0\n",
      "26               159.0   421.0\n",
      "27               140.0   379.0\n",
      "28                94.0   307.0\n",
      "29                87.0   265.0\n",
      "30                83.0   210.0\n",
      "...                ...     ...\n",
      "44                14.0    23.0\n",
      "45                11.0    16.0\n",
      "46                 8.0    24.0\n",
      "47                 4.0    18.0\n",
      "48                 4.0    15.0\n",
      "49                 4.0    20.0\n",
      "50                 2.0    18.0\n",
      "51                 6.0    11.0\n",
      "52                 5.0    15.0\n",
      "53                 5.0     7.0\n",
      "54                 7.0     9.0\n",
      "55                 2.0     8.0\n",
      "56                 4.0     6.0\n",
      "57                 3.0     6.0\n",
      "58                 3.0     6.0\n",
      "59                 2.0     9.0\n",
      "60                 2.0     8.0\n",
      "61                 1.0     4.0\n",
      "62                 2.0     4.0\n",
      "63                 3.0     5.0\n",
      "64                 NaN     2.0\n",
      "65                 2.0     2.0\n",
      "66                 1.0     3.0\n",
      "67                 NaN     2.0\n",
      "68                 NaN     2.0\n",
      "69                 NaN     3.0\n",
      "70                 NaN     2.0\n",
      "72                 NaN     2.0\n",
      "74                 1.0     NaN\n",
      "75                 1.0     NaN\n",
      "\n",
      "[73 rows x 2 columns]\n"
     ]
    },
    {
     "data": {
      "image/png": "[encoded data removed]",
      "text/plain": [
       "<Figure size 864x864 with 1 Axes>"
      ]
     },
     "metadata": {
      "needs_background": "light"
     },
     "output_type": "display_data"
    }
   ],
   "source": [
    "a= re_ad.groupby(['Num_Medications', 'Readmitted']).Readmitted.count().unstack()\n",
    "a.plot(kind='bar',stacked=True,figsize=(12,12))\n",
    "print(a)"
   ]
  },
  {
   "cell_type": "markdown",
   "metadata": {},
   "source": [
    "# if a person undergoes Diabetes medication he is  more likely to be readmitted"
   ]
  },
  {
   "cell_type": "code",
   "execution_count": 21,
   "metadata": {},
   "outputs": [
    {
     "name": "stdout",
     "output_type": "stream",
     "text": [
      "Readmitted     No    Yes\n",
      "Diabetesmed             \n",
      "No           2310   6831\n",
      "Yes          8796  18601\n"
     ]
    },
    {
     "data": {
      "image/png": "[encoded data removed]",
      "text/plain": [
       "<Figure size 432x288 with 1 Axes>"
      ]
     },
     "metadata": {
      "needs_background": "light"
     },
     "output_type": "display_data"
    }
   ],
   "source": [
    "t= re_ad.groupby(['Diabetesmed', 'Readmitted']).Readmitted.count().unstack()\n",
    "t.plot(kind='bar',stacked=True)\n",
    "print(t)"
   ]
  },
  {
   "cell_type": "code",
   "execution_count": 22,
   "metadata": {},
   "outputs": [
    {
     "data": {
      "text/html": [
       "<div>\n",
       "<style scoped>\n",
       "    .dataframe tbody tr th:only-of-type {\n",
       "        vertical-align: middle;\n",
       "    }\n",
       "\n",
       "    .dataframe tbody tr th {\n",
       "        vertical-align: top;\n",
       "    }\n",
       "\n",
       "    .dataframe thead th {\n",
       "        text-align: right;\n",
       "    }\n",
       "</style>\n",
       "<table border=\"1\" class=\"dataframe\">\n",
       "  <thead>\n",
       "    <tr style=\"text-align: right;\">\n",
       "      <th></th>\n",
       "      <th>Patient_Nbr</th>\n",
       "      <th>Num_Lab_Procedures</th>\n",
       "      <th>Num_Procedures</th>\n",
       "      <th>Num_Medications</th>\n",
       "    </tr>\n",
       "  </thead>\n",
       "  <tbody>\n",
       "    <tr>\n",
       "      <th>count</th>\n",
       "      <td>36538.000000</td>\n",
       "      <td>36538.000000</td>\n",
       "      <td>36538.000000</td>\n",
       "      <td>36538.000000</td>\n",
       "    </tr>\n",
       "    <tr>\n",
       "      <th>mean</th>\n",
       "      <td>29217.279216</td>\n",
       "      <td>43.800646</td>\n",
       "      <td>1.332448</td>\n",
       "      <td>16.007171</td>\n",
       "    </tr>\n",
       "    <tr>\n",
       "      <th>std</th>\n",
       "      <td>16904.104318</td>\n",
       "      <td>19.137932</td>\n",
       "      <td>1.681195</td>\n",
       "      <td>8.109806</td>\n",
       "    </tr>\n",
       "    <tr>\n",
       "      <th>min</th>\n",
       "      <td>1.000000</td>\n",
       "      <td>1.000000</td>\n",
       "      <td>0.000000</td>\n",
       "      <td>1.000000</td>\n",
       "    </tr>\n",
       "    <tr>\n",
       "      <th>25%</th>\n",
       "      <td>14562.250000</td>\n",
       "      <td>32.000000</td>\n",
       "      <td>0.000000</td>\n",
       "      <td>10.000000</td>\n",
       "    </tr>\n",
       "    <tr>\n",
       "      <th>50%</th>\n",
       "      <td>29216.000000</td>\n",
       "      <td>45.000000</td>\n",
       "      <td>1.000000</td>\n",
       "      <td>15.000000</td>\n",
       "    </tr>\n",
       "    <tr>\n",
       "      <th>75%</th>\n",
       "      <td>43831.750000</td>\n",
       "      <td>57.000000</td>\n",
       "      <td>2.000000</td>\n",
       "      <td>20.000000</td>\n",
       "    </tr>\n",
       "    <tr>\n",
       "      <th>max</th>\n",
       "      <td>58504.000000</td>\n",
       "      <td>114.000000</td>\n",
       "      <td>6.000000</td>\n",
       "      <td>75.000000</td>\n",
       "    </tr>\n",
       "  </tbody>\n",
       "</table>\n",
       "</div>"
      ],
      "text/plain": [
       "        Patient_Nbr  Num_Lab_Procedures  Num_Procedures  Num_Medications\n",
       "count  36538.000000        36538.000000    36538.000000     36538.000000\n",
       "mean   29217.279216           43.800646        1.332448        16.007171\n",
       "std    16904.104318           19.137932        1.681195         8.109806\n",
       "min        1.000000            1.000000        0.000000         1.000000\n",
       "25%    14562.250000           32.000000        0.000000        10.000000\n",
       "50%    29216.000000           45.000000        1.000000        15.000000\n",
       "75%    43831.750000           57.000000        2.000000        20.000000\n",
       "max    58504.000000          114.000000        6.000000        75.000000"
      ]
     },
     "execution_count": 22,
     "metadata": {},
     "output_type": "execute_result"
    }
   ],
   "source": [
    "re_ad.describe()"
   ]
  },
  {
   "cell_type": "code",
   "execution_count": 23,
   "metadata": {},
   "outputs": [
    {
     "data": {
      "text/html": [
       "<div>\n",
       "<style scoped>\n",
       "    .dataframe tbody tr th:only-of-type {\n",
       "        vertical-align: middle;\n",
       "    }\n",
       "\n",
       "    .dataframe tbody tr th {\n",
       "        vertical-align: top;\n",
       "    }\n",
       "\n",
       "    .dataframe thead th {\n",
       "        text-align: right;\n",
       "    }\n",
       "</style>\n",
       "<table border=\"1\" class=\"dataframe\">\n",
       "  <thead>\n",
       "    <tr style=\"text-align: right;\">\n",
       "      <th></th>\n",
       "      <th>Race</th>\n",
       "      <th>Gender</th>\n",
       "      <th>Age</th>\n",
       "      <th>Weight</th>\n",
       "      <th>Admission Type</th>\n",
       "      <th>Discharge Disposition</th>\n",
       "      <th>Admission Source</th>\n",
       "      <th>Days In Hospital</th>\n",
       "      <th>Payer_Code</th>\n",
       "      <th>Medical_Specialty</th>\n",
       "      <th>...</th>\n",
       "      <th>Citoglipton</th>\n",
       "      <th>Insulin</th>\n",
       "      <th>Glyburide-Metformin</th>\n",
       "      <th>Glipizide-Metformin</th>\n",
       "      <th>Glimepiride-Pioglitazone</th>\n",
       "      <th>Metformin-Rosiglitazone</th>\n",
       "      <th>Metformin-Pioglitazone</th>\n",
       "      <th>Change</th>\n",
       "      <th>Diabetesmed</th>\n",
       "      <th>Readmitted</th>\n",
       "    </tr>\n",
       "  </thead>\n",
       "  <tbody>\n",
       "    <tr>\n",
       "      <th>count</th>\n",
       "      <td>36538</td>\n",
       "      <td>36538</td>\n",
       "      <td>36538</td>\n",
       "      <td>36538</td>\n",
       "      <td>36538</td>\n",
       "      <td>36538</td>\n",
       "      <td>36538</td>\n",
       "      <td>36538</td>\n",
       "      <td>36538</td>\n",
       "      <td>36538</td>\n",
       "      <td>...</td>\n",
       "      <td>36538</td>\n",
       "      <td>36538</td>\n",
       "      <td>36538</td>\n",
       "      <td>36538</td>\n",
       "      <td>36538</td>\n",
       "      <td>36538</td>\n",
       "      <td>36538</td>\n",
       "      <td>36538</td>\n",
       "      <td>36538</td>\n",
       "      <td>36538</td>\n",
       "    </tr>\n",
       "    <tr>\n",
       "      <th>unique</th>\n",
       "      <td>6</td>\n",
       "      <td>3</td>\n",
       "      <td>10</td>\n",
       "      <td>10</td>\n",
       "      <td>5</td>\n",
       "      <td>6</td>\n",
       "      <td>4</td>\n",
       "      <td>4</td>\n",
       "      <td>5</td>\n",
       "      <td>9</td>\n",
       "      <td>...</td>\n",
       "      <td>1</td>\n",
       "      <td>4</td>\n",
       "      <td>4</td>\n",
       "      <td>2</td>\n",
       "      <td>1</td>\n",
       "      <td>1</td>\n",
       "      <td>1</td>\n",
       "      <td>2</td>\n",
       "      <td>2</td>\n",
       "      <td>2</td>\n",
       "    </tr>\n",
       "    <tr>\n",
       "      <th>top</th>\n",
       "      <td>Caucasian</td>\n",
       "      <td>Female</td>\n",
       "      <td>[70-80)</td>\n",
       "      <td>Unknown</td>\n",
       "      <td>Emergency</td>\n",
       "      <td>Discharged</td>\n",
       "      <td>Emergency Room</td>\n",
       "      <td>Between 03 to 06</td>\n",
       "      <td>Unknown</td>\n",
       "      <td>Surgery</td>\n",
       "      <td>...</td>\n",
       "      <td>No</td>\n",
       "      <td>No</td>\n",
       "      <td>No</td>\n",
       "      <td>No</td>\n",
       "      <td>No</td>\n",
       "      <td>No</td>\n",
       "      <td>No</td>\n",
       "      <td>No</td>\n",
       "      <td>Yes</td>\n",
       "      <td>Yes</td>\n",
       "    </tr>\n",
       "    <tr>\n",
       "      <th>freq</th>\n",
       "      <td>27000</td>\n",
       "      <td>19913</td>\n",
       "      <td>9657</td>\n",
       "      <td>35137</td>\n",
       "      <td>25389</td>\n",
       "      <td>33919</td>\n",
       "      <td>19594</td>\n",
       "      <td>17838</td>\n",
       "      <td>18730</td>\n",
       "      <td>17444</td>\n",
       "      <td>...</td>\n",
       "      <td>36538</td>\n",
       "      <td>18715</td>\n",
       "      <td>36325</td>\n",
       "      <td>36534</td>\n",
       "      <td>36538</td>\n",
       "      <td>36538</td>\n",
       "      <td>36538</td>\n",
       "      <td>20205</td>\n",
       "      <td>27397</td>\n",
       "      <td>25432</td>\n",
       "    </tr>\n",
       "  </tbody>\n",
       "</table>\n",
       "<p>4 rows × 39 columns</p>\n",
       "</div>"
      ],
      "text/plain": [
       "             Race  Gender      Age   Weight Admission Type  \\\n",
       "count       36538   36538    36538    36538          36538   \n",
       "unique          6       3       10       10              5   \n",
       "top     Caucasian  Female  [70-80)  Unknown      Emergency   \n",
       "freq        27000   19913     9657    35137          25389   \n",
       "\n",
       "       Discharge Disposition Admission Source  Days In Hospital Payer_Code  \\\n",
       "count                  36538            36538             36538      36538   \n",
       "unique                     6                4                 4          5   \n",
       "top               Discharged   Emergency Room  Between 03 to 06    Unknown   \n",
       "freq                   33919            19594             17838      18730   \n",
       "\n",
       "       Medical_Specialty  ... Citoglipton Insulin Glyburide-Metformin  \\\n",
       "count              36538  ...       36538   36538               36538   \n",
       "unique                 9  ...           1       4                   4   \n",
       "top             Surgery   ...          No      No                  No   \n",
       "freq               17444  ...       36538   18715               36325   \n",
       "\n",
       "       Glipizide-Metformin Glimepiride-Pioglitazone Metformin-Rosiglitazone  \\\n",
       "count                36538                    36538                   36538   \n",
       "unique                   2                        1                       1   \n",
       "top                     No                       No                      No   \n",
       "freq                 36534                    36538                   36538   \n",
       "\n",
       "       Metformin-Pioglitazone Change Diabetesmed Readmitted  \n",
       "count                   36538  36538       36538      36538  \n",
       "unique                      1      2           2          2  \n",
       "top                        No     No         Yes        Yes  \n",
       "freq                    36538  20205       27397      25432  \n",
       "\n",
       "[4 rows x 39 columns]"
      ]
     },
     "execution_count": 23,
     "metadata": {},
     "output_type": "execute_result"
    }
   ],
   "source": [
    "re_ad.describe(include='object')"
   ]
  },
  {
   "cell_type": "markdown",
   "metadata": {},
   "source": [
    "# Train data preprocessing for hospital re-admission classification"
   ]
  },
  {
   "cell_type": "code",
   "execution_count": 24,
   "metadata": {},
   "outputs": [],
   "source": [
    "categorical_columns=re_ad.select_dtypes(include=['object'])"
   ]
  },
  {
   "cell_type": "code",
   "execution_count": 25,
   "metadata": {},
   "outputs": [
    {
     "data": {
      "text/html": [
       "<div>\n",
       "<style scoped>\n",
       "    .dataframe tbody tr th:only-of-type {\n",
       "        vertical-align: middle;\n",
       "    }\n",
       "\n",
       "    .dataframe tbody tr th {\n",
       "        vertical-align: top;\n",
       "    }\n",
       "\n",
       "    .dataframe thead th {\n",
       "        text-align: right;\n",
       "    }\n",
       "</style>\n",
       "<table border=\"1\" class=\"dataframe\">\n",
       "  <thead>\n",
       "    <tr style=\"text-align: right;\">\n",
       "      <th></th>\n",
       "      <th>Race</th>\n",
       "      <th>Gender</th>\n",
       "      <th>Age</th>\n",
       "      <th>Weight</th>\n",
       "      <th>Admission Type</th>\n",
       "      <th>Discharge Disposition</th>\n",
       "      <th>Admission Source</th>\n",
       "      <th>Days In Hospital</th>\n",
       "      <th>Payer_Code</th>\n",
       "      <th>Medical_Specialty</th>\n",
       "      <th>...</th>\n",
       "      <th>Citoglipton</th>\n",
       "      <th>Insulin</th>\n",
       "      <th>Glyburide-Metformin</th>\n",
       "      <th>Glipizide-Metformin</th>\n",
       "      <th>Glimepiride-Pioglitazone</th>\n",
       "      <th>Metformin-Rosiglitazone</th>\n",
       "      <th>Metformin-Pioglitazone</th>\n",
       "      <th>Change</th>\n",
       "      <th>Diabetesmed</th>\n",
       "      <th>Readmitted</th>\n",
       "    </tr>\n",
       "  </thead>\n",
       "  <tbody>\n",
       "    <tr>\n",
       "      <th>0</th>\n",
       "      <td>Caucasian</td>\n",
       "      <td>Male</td>\n",
       "      <td>[70-80)</td>\n",
       "      <td>Unknown</td>\n",
       "      <td>Not Available</td>\n",
       "      <td>Discharged</td>\n",
       "      <td>Not Available</td>\n",
       "      <td>Below 3</td>\n",
       "      <td>Unknown</td>\n",
       "      <td>Surgery</td>\n",
       "      <td>...</td>\n",
       "      <td>No</td>\n",
       "      <td>No</td>\n",
       "      <td>No</td>\n",
       "      <td>No</td>\n",
       "      <td>No</td>\n",
       "      <td>No</td>\n",
       "      <td>No</td>\n",
       "      <td>No</td>\n",
       "      <td>No</td>\n",
       "      <td>Yes</td>\n",
       "    </tr>\n",
       "    <tr>\n",
       "      <th>1</th>\n",
       "      <td>Caucasian</td>\n",
       "      <td>Male</td>\n",
       "      <td>[60-70)</td>\n",
       "      <td>Unknown</td>\n",
       "      <td>Not Available</td>\n",
       "      <td>Discharged</td>\n",
       "      <td>Not Available</td>\n",
       "      <td>Between 03 to 06</td>\n",
       "      <td>HM</td>\n",
       "      <td>Surgery</td>\n",
       "      <td>...</td>\n",
       "      <td>No</td>\n",
       "      <td>Steady</td>\n",
       "      <td>No</td>\n",
       "      <td>No</td>\n",
       "      <td>No</td>\n",
       "      <td>No</td>\n",
       "      <td>No</td>\n",
       "      <td>No</td>\n",
       "      <td>Yes</td>\n",
       "      <td>Yes</td>\n",
       "    </tr>\n",
       "    <tr>\n",
       "      <th>2</th>\n",
       "      <td>Caucasian</td>\n",
       "      <td>Female</td>\n",
       "      <td>[70-80)</td>\n",
       "      <td>Unknown</td>\n",
       "      <td>Emergency</td>\n",
       "      <td>Discharged</td>\n",
       "      <td>Referral</td>\n",
       "      <td>Between 03 to 06</td>\n",
       "      <td>Unknown</td>\n",
       "      <td>General Practice</td>\n",
       "      <td>...</td>\n",
       "      <td>No</td>\n",
       "      <td>No</td>\n",
       "      <td>No</td>\n",
       "      <td>No</td>\n",
       "      <td>No</td>\n",
       "      <td>No</td>\n",
       "      <td>No</td>\n",
       "      <td>No</td>\n",
       "      <td>No</td>\n",
       "      <td>Yes</td>\n",
       "    </tr>\n",
       "    <tr>\n",
       "      <th>3</th>\n",
       "      <td>Caucasian</td>\n",
       "      <td>Male</td>\n",
       "      <td>[50-60)</td>\n",
       "      <td>Unknown</td>\n",
       "      <td>Not Available</td>\n",
       "      <td>Left AMA</td>\n",
       "      <td>Emergency Room</td>\n",
       "      <td>Below 3</td>\n",
       "      <td>Unknown</td>\n",
       "      <td>Surgery</td>\n",
       "      <td>...</td>\n",
       "      <td>No</td>\n",
       "      <td>Steady</td>\n",
       "      <td>No</td>\n",
       "      <td>No</td>\n",
       "      <td>No</td>\n",
       "      <td>No</td>\n",
       "      <td>No</td>\n",
       "      <td>No</td>\n",
       "      <td>Yes</td>\n",
       "      <td>No</td>\n",
       "    </tr>\n",
       "    <tr>\n",
       "      <th>4</th>\n",
       "      <td>Caucasian</td>\n",
       "      <td>Female</td>\n",
       "      <td>[40-50)</td>\n",
       "      <td>Unknown</td>\n",
       "      <td>Emergency</td>\n",
       "      <td>Discharged</td>\n",
       "      <td>Emergency Room</td>\n",
       "      <td>Below 3</td>\n",
       "      <td>HM</td>\n",
       "      <td>Surgery</td>\n",
       "      <td>...</td>\n",
       "      <td>No</td>\n",
       "      <td>Up</td>\n",
       "      <td>No</td>\n",
       "      <td>No</td>\n",
       "      <td>No</td>\n",
       "      <td>No</td>\n",
       "      <td>No</td>\n",
       "      <td>Ch</td>\n",
       "      <td>Yes</td>\n",
       "      <td>No</td>\n",
       "    </tr>\n",
       "  </tbody>\n",
       "</table>\n",
       "<p>5 rows × 39 columns</p>\n",
       "</div>"
      ],
      "text/plain": [
       "        Race  Gender      Age   Weight Admission Type Discharge Disposition  \\\n",
       "0  Caucasian    Male  [70-80)  Unknown  Not Available            Discharged   \n",
       "1  Caucasian    Male  [60-70)  Unknown  Not Available            Discharged   \n",
       "2  Caucasian  Female  [70-80)  Unknown      Emergency            Discharged   \n",
       "3  Caucasian    Male  [50-60)  Unknown  Not Available              Left AMA   \n",
       "4  Caucasian  Female  [40-50)  Unknown      Emergency            Discharged   \n",
       "\n",
       "  Admission Source  Days In Hospital Payer_Code Medical_Specialty  ...  \\\n",
       "0    Not Available           Below 3    Unknown          Surgery   ...   \n",
       "1    Not Available  Between 03 to 06         HM          Surgery   ...   \n",
       "2         Referral  Between 03 to 06    Unknown  General Practice  ...   \n",
       "3   Emergency Room           Below 3    Unknown          Surgery   ...   \n",
       "4   Emergency Room           Below 3         HM          Surgery   ...   \n",
       "\n",
       "  Citoglipton Insulin Glyburide-Metformin Glipizide-Metformin  \\\n",
       "0          No      No                  No                  No   \n",
       "1          No  Steady                  No                  No   \n",
       "2          No      No                  No                  No   \n",
       "3          No  Steady                  No                  No   \n",
       "4          No      Up                  No                  No   \n",
       "\n",
       "  Glimepiride-Pioglitazone Metformin-Rosiglitazone Metformin-Pioglitazone  \\\n",
       "0                       No                      No                     No   \n",
       "1                       No                      No                     No   \n",
       "2                       No                      No                     No   \n",
       "3                       No                      No                     No   \n",
       "4                       No                      No                     No   \n",
       "\n",
       "  Change Diabetesmed Readmitted  \n",
       "0     No          No        Yes  \n",
       "1     No         Yes        Yes  \n",
       "2     No          No        Yes  \n",
       "3     No         Yes         No  \n",
       "4     Ch         Yes         No  \n",
       "\n",
       "[5 rows x 39 columns]"
      ]
     },
     "execution_count": 25,
     "metadata": {},
     "output_type": "execute_result"
    }
   ],
   "source": [
    "categorical_columns.head()"
   ]
  },
  {
   "cell_type": "code",
   "execution_count": 26,
   "metadata": {},
   "outputs": [],
   "source": [
    "numerical_columns=re_ad.select_dtypes(include=['int64'])"
   ]
  },
  {
   "cell_type": "code",
   "execution_count": 27,
   "metadata": {},
   "outputs": [
    {
     "data": {
      "text/html": [
       "<div>\n",
       "<style scoped>\n",
       "    .dataframe tbody tr th:only-of-type {\n",
       "        vertical-align: middle;\n",
       "    }\n",
       "\n",
       "    .dataframe tbody tr th {\n",
       "        vertical-align: top;\n",
       "    }\n",
       "\n",
       "    .dataframe thead th {\n",
       "        text-align: right;\n",
       "    }\n",
       "</style>\n",
       "<table border=\"1\" class=\"dataframe\">\n",
       "  <thead>\n",
       "    <tr style=\"text-align: right;\">\n",
       "      <th></th>\n",
       "      <th>Patient_Nbr</th>\n",
       "      <th>Num_Lab_Procedures</th>\n",
       "      <th>Num_Procedures</th>\n",
       "      <th>Num_Medications</th>\n",
       "    </tr>\n",
       "  </thead>\n",
       "  <tbody>\n",
       "    <tr>\n",
       "      <th>0</th>\n",
       "      <td>8390</td>\n",
       "      <td>55</td>\n",
       "      <td>4</td>\n",
       "      <td>8</td>\n",
       "    </tr>\n",
       "    <tr>\n",
       "      <th>1</th>\n",
       "      <td>20012</td>\n",
       "      <td>17</td>\n",
       "      <td>0</td>\n",
       "      <td>10</td>\n",
       "    </tr>\n",
       "    <tr>\n",
       "      <th>2</th>\n",
       "      <td>50903</td>\n",
       "      <td>36</td>\n",
       "      <td>0</td>\n",
       "      <td>2</td>\n",
       "    </tr>\n",
       "    <tr>\n",
       "      <th>3</th>\n",
       "      <td>50636</td>\n",
       "      <td>48</td>\n",
       "      <td>0</td>\n",
       "      <td>4</td>\n",
       "    </tr>\n",
       "    <tr>\n",
       "      <th>4</th>\n",
       "      <td>205</td>\n",
       "      <td>64</td>\n",
       "      <td>0</td>\n",
       "      <td>11</td>\n",
       "    </tr>\n",
       "  </tbody>\n",
       "</table>\n",
       "</div>"
      ],
      "text/plain": [
       "   Patient_Nbr  Num_Lab_Procedures  Num_Procedures  Num_Medications\n",
       "0         8390                  55               4                8\n",
       "1        20012                  17               0               10\n",
       "2        50903                  36               0                2\n",
       "3        50636                  48               0                4\n",
       "4          205                  64               0               11"
      ]
     },
     "execution_count": 27,
     "metadata": {},
     "output_type": "execute_result"
    }
   ],
   "source": [
    "numerical_columns.head()"
   ]
  },
  {
   "cell_type": "code",
   "execution_count": 28,
   "metadata": {},
   "outputs": [
    {
     "name": "stderr",
     "output_type": "stream",
     "text": [
      "C:\\ProgramData\\Anaconda3\\lib\\site-packages\\pandas\\core\\frame.py:3940: SettingWithCopyWarning: \n",
      "A value is trying to be set on a copy of a slice from a DataFrame\n",
      "\n",
      "See the caveats in the documentation: http://pandas.pydata.org/pandas-docs/stable/indexing.html#indexing-view-versus-copy\n",
      "  errors=errors)\n"
     ]
    }
   ],
   "source": [
    "numerical_columns.drop(['Patient_Nbr'],axis=1, inplace = True)"
   ]
  },
  {
   "cell_type": "code",
   "execution_count": 29,
   "metadata": {},
   "outputs": [
    {
     "data": {
      "text/html": [
       "<div>\n",
       "<style scoped>\n",
       "    .dataframe tbody tr th:only-of-type {\n",
       "        vertical-align: middle;\n",
       "    }\n",
       "\n",
       "    .dataframe tbody tr th {\n",
       "        vertical-align: top;\n",
       "    }\n",
       "\n",
       "    .dataframe thead th {\n",
       "        text-align: right;\n",
       "    }\n",
       "</style>\n",
       "<table border=\"1\" class=\"dataframe\">\n",
       "  <thead>\n",
       "    <tr style=\"text-align: right;\">\n",
       "      <th></th>\n",
       "      <th>Num_Lab_Procedures</th>\n",
       "      <th>Num_Procedures</th>\n",
       "      <th>Num_Medications</th>\n",
       "    </tr>\n",
       "  </thead>\n",
       "  <tbody>\n",
       "    <tr>\n",
       "      <th>0</th>\n",
       "      <td>55</td>\n",
       "      <td>4</td>\n",
       "      <td>8</td>\n",
       "    </tr>\n",
       "    <tr>\n",
       "      <th>1</th>\n",
       "      <td>17</td>\n",
       "      <td>0</td>\n",
       "      <td>10</td>\n",
       "    </tr>\n",
       "    <tr>\n",
       "      <th>2</th>\n",
       "      <td>36</td>\n",
       "      <td>0</td>\n",
       "      <td>2</td>\n",
       "    </tr>\n",
       "    <tr>\n",
       "      <th>3</th>\n",
       "      <td>48</td>\n",
       "      <td>0</td>\n",
       "      <td>4</td>\n",
       "    </tr>\n",
       "    <tr>\n",
       "      <th>4</th>\n",
       "      <td>64</td>\n",
       "      <td>0</td>\n",
       "      <td>11</td>\n",
       "    </tr>\n",
       "  </tbody>\n",
       "</table>\n",
       "</div>"
      ],
      "text/plain": [
       "   Num_Lab_Procedures  Num_Procedures  Num_Medications\n",
       "0                  55               4                8\n",
       "1                  17               0               10\n",
       "2                  36               0                2\n",
       "3                  48               0                4\n",
       "4                  64               0               11"
      ]
     },
     "execution_count": 29,
     "metadata": {},
     "output_type": "execute_result"
    }
   ],
   "source": [
    "numerical_columns.head()"
   ]
  },
  {
   "cell_type": "code",
   "execution_count": 30,
   "metadata": {},
   "outputs": [
    {
     "name": "stderr",
     "output_type": "stream",
     "text": [
      "C:\\ProgramData\\Anaconda3\\lib\\site-packages\\ipykernel_launcher.py:6: SettingWithCopyWarning: \n",
      "A value is trying to be set on a copy of a slice from a DataFrame.\n",
      "Try using .loc[row_indexer,col_indexer] = value instead\n",
      "\n",
      "See the caveats in the documentation: http://pandas.pydata.org/pandas-docs/stable/indexing.html#indexing-view-versus-copy\n",
      "  \n"
     ]
    }
   ],
   "source": [
    "from sklearn.preprocessing import LabelEncoder\n",
    "\n",
    "le1 = LabelEncoder()\n",
    "for i in categorical_columns:\n",
    "    le1.fit(categorical_columns[i])\n",
    "    categorical_columns[i] = le1.transform(categorical_columns[i])"
   ]
  },
  {
   "cell_type": "code",
   "execution_count": 31,
   "metadata": {},
   "outputs": [
    {
     "data": {
      "text/html": [
       "<div>\n",
       "<style scoped>\n",
       "    .dataframe tbody tr th:only-of-type {\n",
       "        vertical-align: middle;\n",
       "    }\n",
       "\n",
       "    .dataframe tbody tr th {\n",
       "        vertical-align: top;\n",
       "    }\n",
       "\n",
       "    .dataframe thead th {\n",
       "        text-align: right;\n",
       "    }\n",
       "</style>\n",
       "<table border=\"1\" class=\"dataframe\">\n",
       "  <thead>\n",
       "    <tr style=\"text-align: right;\">\n",
       "      <th></th>\n",
       "      <th>Race</th>\n",
       "      <th>Gender</th>\n",
       "      <th>Age</th>\n",
       "      <th>Weight</th>\n",
       "      <th>Admission Type</th>\n",
       "      <th>Discharge Disposition</th>\n",
       "      <th>Admission Source</th>\n",
       "      <th>Days In Hospital</th>\n",
       "      <th>Payer_Code</th>\n",
       "      <th>Medical_Specialty</th>\n",
       "      <th>...</th>\n",
       "      <th>Citoglipton</th>\n",
       "      <th>Insulin</th>\n",
       "      <th>Glyburide-Metformin</th>\n",
       "      <th>Glipizide-Metformin</th>\n",
       "      <th>Glimepiride-Pioglitazone</th>\n",
       "      <th>Metformin-Rosiglitazone</th>\n",
       "      <th>Metformin-Pioglitazone</th>\n",
       "      <th>Change</th>\n",
       "      <th>Diabetesmed</th>\n",
       "      <th>Readmitted</th>\n",
       "    </tr>\n",
       "  </thead>\n",
       "  <tbody>\n",
       "    <tr>\n",
       "      <th>0</th>\n",
       "      <td>2</td>\n",
       "      <td>1</td>\n",
       "      <td>7</td>\n",
       "      <td>1</td>\n",
       "      <td>3</td>\n",
       "      <td>1</td>\n",
       "      <td>1</td>\n",
       "      <td>1</td>\n",
       "      <td>4</td>\n",
       "      <td>8</td>\n",
       "      <td>...</td>\n",
       "      <td>0</td>\n",
       "      <td>1</td>\n",
       "      <td>1</td>\n",
       "      <td>0</td>\n",
       "      <td>0</td>\n",
       "      <td>0</td>\n",
       "      <td>0</td>\n",
       "      <td>1</td>\n",
       "      <td>0</td>\n",
       "      <td>1</td>\n",
       "    </tr>\n",
       "    <tr>\n",
       "      <th>1</th>\n",
       "      <td>2</td>\n",
       "      <td>1</td>\n",
       "      <td>6</td>\n",
       "      <td>1</td>\n",
       "      <td>3</td>\n",
       "      <td>1</td>\n",
       "      <td>1</td>\n",
       "      <td>2</td>\n",
       "      <td>1</td>\n",
       "      <td>8</td>\n",
       "      <td>...</td>\n",
       "      <td>0</td>\n",
       "      <td>2</td>\n",
       "      <td>1</td>\n",
       "      <td>0</td>\n",
       "      <td>0</td>\n",
       "      <td>0</td>\n",
       "      <td>0</td>\n",
       "      <td>1</td>\n",
       "      <td>1</td>\n",
       "      <td>1</td>\n",
       "    </tr>\n",
       "    <tr>\n",
       "      <th>2</th>\n",
       "      <td>2</td>\n",
       "      <td>0</td>\n",
       "      <td>7</td>\n",
       "      <td>1</td>\n",
       "      <td>1</td>\n",
       "      <td>1</td>\n",
       "      <td>2</td>\n",
       "      <td>2</td>\n",
       "      <td>4</td>\n",
       "      <td>2</td>\n",
       "      <td>...</td>\n",
       "      <td>0</td>\n",
       "      <td>1</td>\n",
       "      <td>1</td>\n",
       "      <td>0</td>\n",
       "      <td>0</td>\n",
       "      <td>0</td>\n",
       "      <td>0</td>\n",
       "      <td>1</td>\n",
       "      <td>0</td>\n",
       "      <td>1</td>\n",
       "    </tr>\n",
       "    <tr>\n",
       "      <th>3</th>\n",
       "      <td>2</td>\n",
       "      <td>1</td>\n",
       "      <td>5</td>\n",
       "      <td>1</td>\n",
       "      <td>3</td>\n",
       "      <td>3</td>\n",
       "      <td>0</td>\n",
       "      <td>1</td>\n",
       "      <td>4</td>\n",
       "      <td>8</td>\n",
       "      <td>...</td>\n",
       "      <td>0</td>\n",
       "      <td>2</td>\n",
       "      <td>1</td>\n",
       "      <td>0</td>\n",
       "      <td>0</td>\n",
       "      <td>0</td>\n",
       "      <td>0</td>\n",
       "      <td>1</td>\n",
       "      <td>1</td>\n",
       "      <td>0</td>\n",
       "    </tr>\n",
       "    <tr>\n",
       "      <th>4</th>\n",
       "      <td>2</td>\n",
       "      <td>0</td>\n",
       "      <td>4</td>\n",
       "      <td>1</td>\n",
       "      <td>1</td>\n",
       "      <td>1</td>\n",
       "      <td>0</td>\n",
       "      <td>1</td>\n",
       "      <td>1</td>\n",
       "      <td>8</td>\n",
       "      <td>...</td>\n",
       "      <td>0</td>\n",
       "      <td>3</td>\n",
       "      <td>1</td>\n",
       "      <td>0</td>\n",
       "      <td>0</td>\n",
       "      <td>0</td>\n",
       "      <td>0</td>\n",
       "      <td>0</td>\n",
       "      <td>1</td>\n",
       "      <td>0</td>\n",
       "    </tr>\n",
       "  </tbody>\n",
       "</table>\n",
       "<p>5 rows × 39 columns</p>\n",
       "</div>"
      ],
      "text/plain": [
       "   Race  Gender  Age  Weight  Admission Type  Discharge Disposition  \\\n",
       "0     2       1    7       1               3                      1   \n",
       "1     2       1    6       1               3                      1   \n",
       "2     2       0    7       1               1                      1   \n",
       "3     2       1    5       1               3                      3   \n",
       "4     2       0    4       1               1                      1   \n",
       "\n",
       "   Admission Source  Days In Hospital  Payer_Code  Medical_Specialty  ...  \\\n",
       "0                 1                 1           4                  8  ...   \n",
       "1                 1                 2           1                  8  ...   \n",
       "2                 2                 2           4                  2  ...   \n",
       "3                 0                 1           4                  8  ...   \n",
       "4                 0                 1           1                  8  ...   \n",
       "\n",
       "   Citoglipton  Insulin  Glyburide-Metformin  Glipizide-Metformin  \\\n",
       "0            0        1                    1                    0   \n",
       "1            0        2                    1                    0   \n",
       "2            0        1                    1                    0   \n",
       "3            0        2                    1                    0   \n",
       "4            0        3                    1                    0   \n",
       "\n",
       "   Glimepiride-Pioglitazone  Metformin-Rosiglitazone  Metformin-Pioglitazone  \\\n",
       "0                         0                        0                       0   \n",
       "1                         0                        0                       0   \n",
       "2                         0                        0                       0   \n",
       "3                         0                        0                       0   \n",
       "4                         0                        0                       0   \n",
       "\n",
       "   Change  Diabetesmed  Readmitted  \n",
       "0       1            0           1  \n",
       "1       1            1           1  \n",
       "2       1            0           1  \n",
       "3       1            1           0  \n",
       "4       0            1           0  \n",
       "\n",
       "[5 rows x 39 columns]"
      ]
     },
     "execution_count": 31,
     "metadata": {},
     "output_type": "execute_result"
    }
   ],
   "source": [
    "categorical_columns.head()"
   ]
  },
  {
   "cell_type": "code",
   "execution_count": 32,
   "metadata": {},
   "outputs": [],
   "source": [
    "final_re_ad=pd.concat([numerical_columns,categorical_columns],axis=1)"
   ]
  },
  {
   "cell_type": "code",
   "execution_count": 33,
   "metadata": {},
   "outputs": [
    {
     "data": {
      "text/plain": [
       "(36538, 42)"
      ]
     },
     "execution_count": 33,
     "metadata": {},
     "output_type": "execute_result"
    }
   ],
   "source": [
    "final_re_ad.shape"
   ]
  },
  {
   "cell_type": "markdown",
   "metadata": {},
   "source": [
    "# preprocessing of the test data given"
   ]
  },
  {
   "cell_type": "code",
   "execution_count": 34,
   "metadata": {},
   "outputs": [
    {
     "data": {
      "text/html": [
       "<div>\n",
       "<style scoped>\n",
       "    .dataframe tbody tr th:only-of-type {\n",
       "        vertical-align: middle;\n",
       "    }\n",
       "\n",
       "    .dataframe tbody tr th {\n",
       "        vertical-align: top;\n",
       "    }\n",
       "\n",
       "    .dataframe thead th {\n",
       "        text-align: right;\n",
       "    }\n",
       "</style>\n",
       "<table border=\"1\" class=\"dataframe\">\n",
       "  <thead>\n",
       "    <tr style=\"text-align: right;\">\n",
       "      <th></th>\n",
       "      <th>Patient_Nbr</th>\n",
       "      <th>Race</th>\n",
       "      <th>Gender</th>\n",
       "      <th>Age</th>\n",
       "      <th>Weight</th>\n",
       "      <th>Admission Type</th>\n",
       "      <th>Discharge Disposition</th>\n",
       "      <th>Admission Source</th>\n",
       "      <th>Days In Hospital</th>\n",
       "      <th>Payer_Code</th>\n",
       "      <th>...</th>\n",
       "      <th>Examide</th>\n",
       "      <th>Citoglipton</th>\n",
       "      <th>Insulin</th>\n",
       "      <th>Glyburide-Metformin</th>\n",
       "      <th>Glipizide-Metformin</th>\n",
       "      <th>Glimepiride-Pioglitazone</th>\n",
       "      <th>Metformin-Rosiglitazone</th>\n",
       "      <th>Metformin-Pioglitazone</th>\n",
       "      <th>Change</th>\n",
       "      <th>Diabetesmed</th>\n",
       "    </tr>\n",
       "  </thead>\n",
       "  <tbody>\n",
       "    <tr>\n",
       "      <th>0</th>\n",
       "      <td>12866</td>\n",
       "      <td>Caucasian</td>\n",
       "      <td>Male</td>\n",
       "      <td>[80-90)</td>\n",
       "      <td>Unknown</td>\n",
       "      <td>Not Available</td>\n",
       "      <td>Discharged</td>\n",
       "      <td>Referral</td>\n",
       "      <td>Above 9</td>\n",
       "      <td>Unknown</td>\n",
       "      <td>...</td>\n",
       "      <td>No</td>\n",
       "      <td>No</td>\n",
       "      <td>Steady</td>\n",
       "      <td>No</td>\n",
       "      <td>No</td>\n",
       "      <td>No</td>\n",
       "      <td>No</td>\n",
       "      <td>No</td>\n",
       "      <td>Ch</td>\n",
       "      <td>Yes</td>\n",
       "    </tr>\n",
       "    <tr>\n",
       "      <th>1</th>\n",
       "      <td>27788</td>\n",
       "      <td>Caucasian</td>\n",
       "      <td>Male</td>\n",
       "      <td>[50-60)</td>\n",
       "      <td>Unknown</td>\n",
       "      <td>Emergency</td>\n",
       "      <td>Discharged</td>\n",
       "      <td>Emergency Room</td>\n",
       "      <td>Between 03 to 06</td>\n",
       "      <td>MC</td>\n",
       "      <td>...</td>\n",
       "      <td>No</td>\n",
       "      <td>No</td>\n",
       "      <td>Down</td>\n",
       "      <td>No</td>\n",
       "      <td>No</td>\n",
       "      <td>No</td>\n",
       "      <td>No</td>\n",
       "      <td>No</td>\n",
       "      <td>Ch</td>\n",
       "      <td>Yes</td>\n",
       "    </tr>\n",
       "    <tr>\n",
       "      <th>2</th>\n",
       "      <td>50211</td>\n",
       "      <td>Caucasian</td>\n",
       "      <td>Female</td>\n",
       "      <td>[40-50)</td>\n",
       "      <td>Unknown</td>\n",
       "      <td>Emergency</td>\n",
       "      <td>Discharged</td>\n",
       "      <td>Referral</td>\n",
       "      <td>Below 3</td>\n",
       "      <td>HM</td>\n",
       "      <td>...</td>\n",
       "      <td>No</td>\n",
       "      <td>No</td>\n",
       "      <td>No</td>\n",
       "      <td>No</td>\n",
       "      <td>No</td>\n",
       "      <td>No</td>\n",
       "      <td>No</td>\n",
       "      <td>No</td>\n",
       "      <td>No</td>\n",
       "      <td>No</td>\n",
       "    </tr>\n",
       "    <tr>\n",
       "      <th>3</th>\n",
       "      <td>79</td>\n",
       "      <td>Caucasian</td>\n",
       "      <td>Male</td>\n",
       "      <td>[80-90)</td>\n",
       "      <td>Unknown</td>\n",
       "      <td>Emergency</td>\n",
       "      <td>Discharged</td>\n",
       "      <td>Emergency Room</td>\n",
       "      <td>Between 03 to 06</td>\n",
       "      <td>MC</td>\n",
       "      <td>...</td>\n",
       "      <td>No</td>\n",
       "      <td>No</td>\n",
       "      <td>No</td>\n",
       "      <td>No</td>\n",
       "      <td>No</td>\n",
       "      <td>No</td>\n",
       "      <td>No</td>\n",
       "      <td>No</td>\n",
       "      <td>No</td>\n",
       "      <td>Yes</td>\n",
       "    </tr>\n",
       "    <tr>\n",
       "      <th>4</th>\n",
       "      <td>47633</td>\n",
       "      <td>Caucasian</td>\n",
       "      <td>Female</td>\n",
       "      <td>[70-80)</td>\n",
       "      <td>Unknown</td>\n",
       "      <td>Not Available</td>\n",
       "      <td>Discharged</td>\n",
       "      <td>Not Available</td>\n",
       "      <td>Between 03 to 06</td>\n",
       "      <td>Unknown</td>\n",
       "      <td>...</td>\n",
       "      <td>No</td>\n",
       "      <td>No</td>\n",
       "      <td>No</td>\n",
       "      <td>No</td>\n",
       "      <td>No</td>\n",
       "      <td>No</td>\n",
       "      <td>No</td>\n",
       "      <td>No</td>\n",
       "      <td>No</td>\n",
       "      <td>Yes</td>\n",
       "    </tr>\n",
       "  </tbody>\n",
       "</table>\n",
       "<p>5 rows × 42 columns</p>\n",
       "</div>"
      ],
      "text/plain": [
       "   Patient_Nbr       Race  Gender      Age   Weight Admission Type  \\\n",
       "0        12866  Caucasian    Male  [80-90)  Unknown  Not Available   \n",
       "1        27788  Caucasian    Male  [50-60)  Unknown      Emergency   \n",
       "2        50211  Caucasian  Female  [40-50)  Unknown      Emergency   \n",
       "3           79  Caucasian    Male  [80-90)  Unknown      Emergency   \n",
       "4        47633  Caucasian  Female  [70-80)  Unknown  Not Available   \n",
       "\n",
       "  Discharge Disposition Admission Source  Days In Hospital Payer_Code  ...  \\\n",
       "0            Discharged         Referral           Above 9    Unknown  ...   \n",
       "1            Discharged   Emergency Room  Between 03 to 06         MC  ...   \n",
       "2            Discharged         Referral           Below 3         HM  ...   \n",
       "3            Discharged   Emergency Room  Between 03 to 06         MC  ...   \n",
       "4            Discharged    Not Available  Between 03 to 06    Unknown  ...   \n",
       "\n",
       "  Examide  Citoglipton  Insulin  Glyburide-Metformin Glipizide-Metformin  \\\n",
       "0      No           No   Steady                   No                  No   \n",
       "1      No           No     Down                   No                  No   \n",
       "2      No           No       No                   No                  No   \n",
       "3      No           No       No                   No                  No   \n",
       "4      No           No       No                   No                  No   \n",
       "\n",
       "  Glimepiride-Pioglitazone Metformin-Rosiglitazone Metformin-Pioglitazone  \\\n",
       "0                       No                      No                     No   \n",
       "1                       No                      No                     No   \n",
       "2                       No                      No                     No   \n",
       "3                       No                      No                     No   \n",
       "4                       No                      No                     No   \n",
       "\n",
       "  Change Diabetesmed  \n",
       "0     Ch         Yes  \n",
       "1     Ch         Yes  \n",
       "2     No          No  \n",
       "3     No         Yes  \n",
       "4     No         Yes  \n",
       "\n",
       "[5 rows x 42 columns]"
      ]
     },
     "execution_count": 34,
     "metadata": {},
     "output_type": "execute_result"
    }
   ],
   "source": [
    "test_re_ad.head()"
   ]
  },
  {
   "cell_type": "code",
   "execution_count": 35,
   "metadata": {},
   "outputs": [],
   "source": [
    "cat_columns=test_re_ad.select_dtypes(include=['object'])"
   ]
  },
  {
   "cell_type": "code",
   "execution_count": 36,
   "metadata": {},
   "outputs": [
    {
     "data": {
      "text/plain": [
       "(2035, 38)"
      ]
     },
     "execution_count": 36,
     "metadata": {},
     "output_type": "execute_result"
    }
   ],
   "source": [
    "cat_columns.shape"
   ]
  },
  {
   "cell_type": "code",
   "execution_count": 37,
   "metadata": {},
   "outputs": [],
   "source": [
    "num_columns=test_re_ad.select_dtypes(include=['int64'])"
   ]
  },
  {
   "cell_type": "code",
   "execution_count": 38,
   "metadata": {},
   "outputs": [
    {
     "data": {
      "text/html": [
       "<div>\n",
       "<style scoped>\n",
       "    .dataframe tbody tr th:only-of-type {\n",
       "        vertical-align: middle;\n",
       "    }\n",
       "\n",
       "    .dataframe tbody tr th {\n",
       "        vertical-align: top;\n",
       "    }\n",
       "\n",
       "    .dataframe thead th {\n",
       "        text-align: right;\n",
       "    }\n",
       "</style>\n",
       "<table border=\"1\" class=\"dataframe\">\n",
       "  <thead>\n",
       "    <tr style=\"text-align: right;\">\n",
       "      <th></th>\n",
       "      <th>Patient_Nbr</th>\n",
       "      <th>Num_Lab_Procedures</th>\n",
       "      <th>Num_Procedures</th>\n",
       "      <th>Num_Medications</th>\n",
       "    </tr>\n",
       "  </thead>\n",
       "  <tbody>\n",
       "    <tr>\n",
       "      <th>0</th>\n",
       "      <td>12866</td>\n",
       "      <td>89</td>\n",
       "      <td>2</td>\n",
       "      <td>27</td>\n",
       "    </tr>\n",
       "    <tr>\n",
       "      <th>1</th>\n",
       "      <td>27788</td>\n",
       "      <td>33</td>\n",
       "      <td>6</td>\n",
       "      <td>8</td>\n",
       "    </tr>\n",
       "    <tr>\n",
       "      <th>2</th>\n",
       "      <td>50211</td>\n",
       "      <td>26</td>\n",
       "      <td>1</td>\n",
       "      <td>11</td>\n",
       "    </tr>\n",
       "    <tr>\n",
       "      <th>3</th>\n",
       "      <td>79</td>\n",
       "      <td>62</td>\n",
       "      <td>0</td>\n",
       "      <td>14</td>\n",
       "    </tr>\n",
       "    <tr>\n",
       "      <th>4</th>\n",
       "      <td>47633</td>\n",
       "      <td>23</td>\n",
       "      <td>0</td>\n",
       "      <td>7</td>\n",
       "    </tr>\n",
       "  </tbody>\n",
       "</table>\n",
       "</div>"
      ],
      "text/plain": [
       "   Patient_Nbr  Num_Lab_Procedures  Num_Procedures  Num_Medications\n",
       "0        12866                  89               2               27\n",
       "1        27788                  33               6                8\n",
       "2        50211                  26               1               11\n",
       "3           79                  62               0               14\n",
       "4        47633                  23               0                7"
      ]
     },
     "execution_count": 38,
     "metadata": {},
     "output_type": "execute_result"
    }
   ],
   "source": [
    "num_columns.head()"
   ]
  },
  {
   "cell_type": "code",
   "execution_count": 39,
   "metadata": {},
   "outputs": [
    {
     "name": "stderr",
     "output_type": "stream",
     "text": [
      "C:\\ProgramData\\Anaconda3\\lib\\site-packages\\pandas\\core\\frame.py:3940: SettingWithCopyWarning: \n",
      "A value is trying to be set on a copy of a slice from a DataFrame\n",
      "\n",
      "See the caveats in the documentation: http://pandas.pydata.org/pandas-docs/stable/indexing.html#indexing-view-versus-copy\n",
      "  errors=errors)\n"
     ]
    }
   ],
   "source": [
    "num_columns.drop(['Patient_Nbr'],axis=1, inplace = True)"
   ]
  },
  {
   "cell_type": "code",
   "execution_count": 40,
   "metadata": {},
   "outputs": [
    {
     "data": {
      "text/html": [
       "<div>\n",
       "<style scoped>\n",
       "    .dataframe tbody tr th:only-of-type {\n",
       "        vertical-align: middle;\n",
       "    }\n",
       "\n",
       "    .dataframe tbody tr th {\n",
       "        vertical-align: top;\n",
       "    }\n",
       "\n",
       "    .dataframe thead th {\n",
       "        text-align: right;\n",
       "    }\n",
       "</style>\n",
       "<table border=\"1\" class=\"dataframe\">\n",
       "  <thead>\n",
       "    <tr style=\"text-align: right;\">\n",
       "      <th></th>\n",
       "      <th>Num_Lab_Procedures</th>\n",
       "      <th>Num_Procedures</th>\n",
       "      <th>Num_Medications</th>\n",
       "    </tr>\n",
       "  </thead>\n",
       "  <tbody>\n",
       "    <tr>\n",
       "      <th>0</th>\n",
       "      <td>89</td>\n",
       "      <td>2</td>\n",
       "      <td>27</td>\n",
       "    </tr>\n",
       "    <tr>\n",
       "      <th>1</th>\n",
       "      <td>33</td>\n",
       "      <td>6</td>\n",
       "      <td>8</td>\n",
       "    </tr>\n",
       "    <tr>\n",
       "      <th>2</th>\n",
       "      <td>26</td>\n",
       "      <td>1</td>\n",
       "      <td>11</td>\n",
       "    </tr>\n",
       "    <tr>\n",
       "      <th>3</th>\n",
       "      <td>62</td>\n",
       "      <td>0</td>\n",
       "      <td>14</td>\n",
       "    </tr>\n",
       "    <tr>\n",
       "      <th>4</th>\n",
       "      <td>23</td>\n",
       "      <td>0</td>\n",
       "      <td>7</td>\n",
       "    </tr>\n",
       "  </tbody>\n",
       "</table>\n",
       "</div>"
      ],
      "text/plain": [
       "   Num_Lab_Procedures  Num_Procedures  Num_Medications\n",
       "0                  89               2               27\n",
       "1                  33               6                8\n",
       "2                  26               1               11\n",
       "3                  62               0               14\n",
       "4                  23               0                7"
      ]
     },
     "execution_count": 40,
     "metadata": {},
     "output_type": "execute_result"
    }
   ],
   "source": [
    "num_columns.head()"
   ]
  },
  {
   "cell_type": "code",
   "execution_count": 41,
   "metadata": {},
   "outputs": [
    {
     "data": {
      "text/html": [
       "<div>\n",
       "<style scoped>\n",
       "    .dataframe tbody tr th:only-of-type {\n",
       "        vertical-align: middle;\n",
       "    }\n",
       "\n",
       "    .dataframe tbody tr th {\n",
       "        vertical-align: top;\n",
       "    }\n",
       "\n",
       "    .dataframe thead th {\n",
       "        text-align: right;\n",
       "    }\n",
       "</style>\n",
       "<table border=\"1\" class=\"dataframe\">\n",
       "  <thead>\n",
       "    <tr style=\"text-align: right;\">\n",
       "      <th></th>\n",
       "      <th>Num_Lab_Procedures</th>\n",
       "      <th>Num_Procedures</th>\n",
       "      <th>Num_Medications</th>\n",
       "    </tr>\n",
       "  </thead>\n",
       "  <tbody>\n",
       "    <tr>\n",
       "      <th>0</th>\n",
       "      <td>89</td>\n",
       "      <td>2</td>\n",
       "      <td>27</td>\n",
       "    </tr>\n",
       "    <tr>\n",
       "      <th>1</th>\n",
       "      <td>33</td>\n",
       "      <td>6</td>\n",
       "      <td>8</td>\n",
       "    </tr>\n",
       "    <tr>\n",
       "      <th>2</th>\n",
       "      <td>26</td>\n",
       "      <td>1</td>\n",
       "      <td>11</td>\n",
       "    </tr>\n",
       "    <tr>\n",
       "      <th>3</th>\n",
       "      <td>62</td>\n",
       "      <td>0</td>\n",
       "      <td>14</td>\n",
       "    </tr>\n",
       "    <tr>\n",
       "      <th>4</th>\n",
       "      <td>23</td>\n",
       "      <td>0</td>\n",
       "      <td>7</td>\n",
       "    </tr>\n",
       "  </tbody>\n",
       "</table>\n",
       "</div>"
      ],
      "text/plain": [
       "   Num_Lab_Procedures  Num_Procedures  Num_Medications\n",
       "0                  89               2               27\n",
       "1                  33               6                8\n",
       "2                  26               1               11\n",
       "3                  62               0               14\n",
       "4                  23               0                7"
      ]
     },
     "execution_count": 41,
     "metadata": {},
     "output_type": "execute_result"
    }
   ],
   "source": [
    "num_columns.head()"
   ]
  },
  {
   "cell_type": "code",
   "execution_count": 42,
   "metadata": {},
   "outputs": [
    {
     "name": "stderr",
     "output_type": "stream",
     "text": [
      "C:\\ProgramData\\Anaconda3\\lib\\site-packages\\ipykernel_launcher.py:6: SettingWithCopyWarning: \n",
      "A value is trying to be set on a copy of a slice from a DataFrame.\n",
      "Try using .loc[row_indexer,col_indexer] = value instead\n",
      "\n",
      "See the caveats in the documentation: http://pandas.pydata.org/pandas-docs/stable/indexing.html#indexing-view-versus-copy\n",
      "  \n"
     ]
    }
   ],
   "source": [
    "from sklearn.preprocessing import LabelEncoder\n",
    "\n",
    "le2 = LabelEncoder()\n",
    "for i in cat_columns:\n",
    "    le2.fit(cat_columns[i])\n",
    "    cat_columns[i] = le2.transform(cat_columns[i])"
   ]
  },
  {
   "cell_type": "code",
   "execution_count": 43,
   "metadata": {},
   "outputs": [
    {
     "data": {
      "text/html": [
       "<div>\n",
       "<style scoped>\n",
       "    .dataframe tbody tr th:only-of-type {\n",
       "        vertical-align: middle;\n",
       "    }\n",
       "\n",
       "    .dataframe tbody tr th {\n",
       "        vertical-align: top;\n",
       "    }\n",
       "\n",
       "    .dataframe thead th {\n",
       "        text-align: right;\n",
       "    }\n",
       "</style>\n",
       "<table border=\"1\" class=\"dataframe\">\n",
       "  <thead>\n",
       "    <tr style=\"text-align: right;\">\n",
       "      <th></th>\n",
       "      <th>Race</th>\n",
       "      <th>Gender</th>\n",
       "      <th>Age</th>\n",
       "      <th>Weight</th>\n",
       "      <th>Admission Type</th>\n",
       "      <th>Discharge Disposition</th>\n",
       "      <th>Admission Source</th>\n",
       "      <th>Days In Hospital</th>\n",
       "      <th>Payer_Code</th>\n",
       "      <th>Medical_Specialty</th>\n",
       "      <th>...</th>\n",
       "      <th>Examide</th>\n",
       "      <th>Citoglipton</th>\n",
       "      <th>Insulin</th>\n",
       "      <th>Glyburide-Metformin</th>\n",
       "      <th>Glipizide-Metformin</th>\n",
       "      <th>Glimepiride-Pioglitazone</th>\n",
       "      <th>Metformin-Rosiglitazone</th>\n",
       "      <th>Metformin-Pioglitazone</th>\n",
       "      <th>Change</th>\n",
       "      <th>Diabetesmed</th>\n",
       "    </tr>\n",
       "  </thead>\n",
       "  <tbody>\n",
       "    <tr>\n",
       "      <th>0</th>\n",
       "      <td>2</td>\n",
       "      <td>1</td>\n",
       "      <td>8</td>\n",
       "      <td>0</td>\n",
       "      <td>3</td>\n",
       "      <td>1</td>\n",
       "      <td>2</td>\n",
       "      <td>0</td>\n",
       "      <td>4</td>\n",
       "      <td>8</td>\n",
       "      <td>...</td>\n",
       "      <td>0</td>\n",
       "      <td>0</td>\n",
       "      <td>2</td>\n",
       "      <td>0</td>\n",
       "      <td>0</td>\n",
       "      <td>0</td>\n",
       "      <td>0</td>\n",
       "      <td>0</td>\n",
       "      <td>0</td>\n",
       "      <td>1</td>\n",
       "    </tr>\n",
       "    <tr>\n",
       "      <th>1</th>\n",
       "      <td>2</td>\n",
       "      <td>1</td>\n",
       "      <td>5</td>\n",
       "      <td>0</td>\n",
       "      <td>1</td>\n",
       "      <td>1</td>\n",
       "      <td>0</td>\n",
       "      <td>2</td>\n",
       "      <td>2</td>\n",
       "      <td>8</td>\n",
       "      <td>...</td>\n",
       "      <td>0</td>\n",
       "      <td>0</td>\n",
       "      <td>0</td>\n",
       "      <td>0</td>\n",
       "      <td>0</td>\n",
       "      <td>0</td>\n",
       "      <td>0</td>\n",
       "      <td>0</td>\n",
       "      <td>0</td>\n",
       "      <td>1</td>\n",
       "    </tr>\n",
       "    <tr>\n",
       "      <th>2</th>\n",
       "      <td>2</td>\n",
       "      <td>0</td>\n",
       "      <td>4</td>\n",
       "      <td>0</td>\n",
       "      <td>1</td>\n",
       "      <td>1</td>\n",
       "      <td>2</td>\n",
       "      <td>1</td>\n",
       "      <td>1</td>\n",
       "      <td>6</td>\n",
       "      <td>...</td>\n",
       "      <td>0</td>\n",
       "      <td>0</td>\n",
       "      <td>1</td>\n",
       "      <td>0</td>\n",
       "      <td>0</td>\n",
       "      <td>0</td>\n",
       "      <td>0</td>\n",
       "      <td>0</td>\n",
       "      <td>1</td>\n",
       "      <td>0</td>\n",
       "    </tr>\n",
       "    <tr>\n",
       "      <th>3</th>\n",
       "      <td>2</td>\n",
       "      <td>1</td>\n",
       "      <td>8</td>\n",
       "      <td>0</td>\n",
       "      <td>1</td>\n",
       "      <td>1</td>\n",
       "      <td>0</td>\n",
       "      <td>2</td>\n",
       "      <td>2</td>\n",
       "      <td>8</td>\n",
       "      <td>...</td>\n",
       "      <td>0</td>\n",
       "      <td>0</td>\n",
       "      <td>1</td>\n",
       "      <td>0</td>\n",
       "      <td>0</td>\n",
       "      <td>0</td>\n",
       "      <td>0</td>\n",
       "      <td>0</td>\n",
       "      <td>1</td>\n",
       "      <td>1</td>\n",
       "    </tr>\n",
       "    <tr>\n",
       "      <th>4</th>\n",
       "      <td>2</td>\n",
       "      <td>0</td>\n",
       "      <td>7</td>\n",
       "      <td>0</td>\n",
       "      <td>3</td>\n",
       "      <td>1</td>\n",
       "      <td>1</td>\n",
       "      <td>2</td>\n",
       "      <td>4</td>\n",
       "      <td>8</td>\n",
       "      <td>...</td>\n",
       "      <td>0</td>\n",
       "      <td>0</td>\n",
       "      <td>1</td>\n",
       "      <td>0</td>\n",
       "      <td>0</td>\n",
       "      <td>0</td>\n",
       "      <td>0</td>\n",
       "      <td>0</td>\n",
       "      <td>1</td>\n",
       "      <td>1</td>\n",
       "    </tr>\n",
       "  </tbody>\n",
       "</table>\n",
       "<p>5 rows × 38 columns</p>\n",
       "</div>"
      ],
      "text/plain": [
       "   Race  Gender  Age  Weight  Admission Type  Discharge Disposition  \\\n",
       "0     2       1    8       0               3                      1   \n",
       "1     2       1    5       0               1                      1   \n",
       "2     2       0    4       0               1                      1   \n",
       "3     2       1    8       0               1                      1   \n",
       "4     2       0    7       0               3                      1   \n",
       "\n",
       "   Admission Source  Days In Hospital  Payer_Code  Medical_Specialty  ...  \\\n",
       "0                 2                 0           4                  8  ...   \n",
       "1                 0                 2           2                  8  ...   \n",
       "2                 2                 1           1                  6  ...   \n",
       "3                 0                 2           2                  8  ...   \n",
       "4                 1                 2           4                  8  ...   \n",
       "\n",
       "   Examide  Citoglipton  Insulin  Glyburide-Metformin  Glipizide-Metformin  \\\n",
       "0        0            0        2                    0                    0   \n",
       "1        0            0        0                    0                    0   \n",
       "2        0            0        1                    0                    0   \n",
       "3        0            0        1                    0                    0   \n",
       "4        0            0        1                    0                    0   \n",
       "\n",
       "   Glimepiride-Pioglitazone  Metformin-Rosiglitazone  Metformin-Pioglitazone  \\\n",
       "0                         0                        0                       0   \n",
       "1                         0                        0                       0   \n",
       "2                         0                        0                       0   \n",
       "3                         0                        0                       0   \n",
       "4                         0                        0                       0   \n",
       "\n",
       "   Change  Diabetesmed  \n",
       "0       0            1  \n",
       "1       0            1  \n",
       "2       1            0  \n",
       "3       1            1  \n",
       "4       1            1  \n",
       "\n",
       "[5 rows x 38 columns]"
      ]
     },
     "execution_count": 43,
     "metadata": {},
     "output_type": "execute_result"
    }
   ],
   "source": [
    "cat_columns.head()"
   ]
  },
  {
   "cell_type": "code",
   "execution_count": 44,
   "metadata": {},
   "outputs": [
    {
     "data": {
      "text/plain": [
       "(2035, 38)"
      ]
     },
     "execution_count": 44,
     "metadata": {},
     "output_type": "execute_result"
    }
   ],
   "source": [
    "cat_columns.shape"
   ]
  },
  {
   "cell_type": "code",
   "execution_count": 45,
   "metadata": {},
   "outputs": [],
   "source": [
    "test_final_re_ad=pd.concat([num_columns,cat_columns],axis=1)"
   ]
  },
  {
   "cell_type": "code",
   "execution_count": 46,
   "metadata": {},
   "outputs": [
    {
     "data": {
      "text/plain": [
       "(2035, 41)"
      ]
     },
     "execution_count": 46,
     "metadata": {},
     "output_type": "execute_result"
    }
   ],
   "source": [
    "test_final_re_ad.shape"
   ]
  },
  {
   "cell_type": "code",
   "execution_count": 47,
   "metadata": {},
   "outputs": [
    {
     "data": {
      "text/html": [
       "<div>\n",
       "<style scoped>\n",
       "    .dataframe tbody tr th:only-of-type {\n",
       "        vertical-align: middle;\n",
       "    }\n",
       "\n",
       "    .dataframe tbody tr th {\n",
       "        vertical-align: top;\n",
       "    }\n",
       "\n",
       "    .dataframe thead th {\n",
       "        text-align: right;\n",
       "    }\n",
       "</style>\n",
       "<table border=\"1\" class=\"dataframe\">\n",
       "  <thead>\n",
       "    <tr style=\"text-align: right;\">\n",
       "      <th></th>\n",
       "      <th>Num_Lab_Procedures</th>\n",
       "      <th>Num_Procedures</th>\n",
       "      <th>Num_Medications</th>\n",
       "      <th>Race</th>\n",
       "      <th>Gender</th>\n",
       "      <th>Age</th>\n",
       "      <th>Weight</th>\n",
       "      <th>Admission Type</th>\n",
       "      <th>Discharge Disposition</th>\n",
       "      <th>Admission Source</th>\n",
       "      <th>...</th>\n",
       "      <th>Examide</th>\n",
       "      <th>Citoglipton</th>\n",
       "      <th>Insulin</th>\n",
       "      <th>Glyburide-Metformin</th>\n",
       "      <th>Glipizide-Metformin</th>\n",
       "      <th>Glimepiride-Pioglitazone</th>\n",
       "      <th>Metformin-Rosiglitazone</th>\n",
       "      <th>Metformin-Pioglitazone</th>\n",
       "      <th>Change</th>\n",
       "      <th>Diabetesmed</th>\n",
       "    </tr>\n",
       "  </thead>\n",
       "  <tbody>\n",
       "    <tr>\n",
       "      <th>0</th>\n",
       "      <td>89</td>\n",
       "      <td>2</td>\n",
       "      <td>27</td>\n",
       "      <td>2</td>\n",
       "      <td>1</td>\n",
       "      <td>8</td>\n",
       "      <td>0</td>\n",
       "      <td>3</td>\n",
       "      <td>1</td>\n",
       "      <td>2</td>\n",
       "      <td>...</td>\n",
       "      <td>0</td>\n",
       "      <td>0</td>\n",
       "      <td>2</td>\n",
       "      <td>0</td>\n",
       "      <td>0</td>\n",
       "      <td>0</td>\n",
       "      <td>0</td>\n",
       "      <td>0</td>\n",
       "      <td>0</td>\n",
       "      <td>1</td>\n",
       "    </tr>\n",
       "    <tr>\n",
       "      <th>1</th>\n",
       "      <td>33</td>\n",
       "      <td>6</td>\n",
       "      <td>8</td>\n",
       "      <td>2</td>\n",
       "      <td>1</td>\n",
       "      <td>5</td>\n",
       "      <td>0</td>\n",
       "      <td>1</td>\n",
       "      <td>1</td>\n",
       "      <td>0</td>\n",
       "      <td>...</td>\n",
       "      <td>0</td>\n",
       "      <td>0</td>\n",
       "      <td>0</td>\n",
       "      <td>0</td>\n",
       "      <td>0</td>\n",
       "      <td>0</td>\n",
       "      <td>0</td>\n",
       "      <td>0</td>\n",
       "      <td>0</td>\n",
       "      <td>1</td>\n",
       "    </tr>\n",
       "    <tr>\n",
       "      <th>2</th>\n",
       "      <td>26</td>\n",
       "      <td>1</td>\n",
       "      <td>11</td>\n",
       "      <td>2</td>\n",
       "      <td>0</td>\n",
       "      <td>4</td>\n",
       "      <td>0</td>\n",
       "      <td>1</td>\n",
       "      <td>1</td>\n",
       "      <td>2</td>\n",
       "      <td>...</td>\n",
       "      <td>0</td>\n",
       "      <td>0</td>\n",
       "      <td>1</td>\n",
       "      <td>0</td>\n",
       "      <td>0</td>\n",
       "      <td>0</td>\n",
       "      <td>0</td>\n",
       "      <td>0</td>\n",
       "      <td>1</td>\n",
       "      <td>0</td>\n",
       "    </tr>\n",
       "    <tr>\n",
       "      <th>3</th>\n",
       "      <td>62</td>\n",
       "      <td>0</td>\n",
       "      <td>14</td>\n",
       "      <td>2</td>\n",
       "      <td>1</td>\n",
       "      <td>8</td>\n",
       "      <td>0</td>\n",
       "      <td>1</td>\n",
       "      <td>1</td>\n",
       "      <td>0</td>\n",
       "      <td>...</td>\n",
       "      <td>0</td>\n",
       "      <td>0</td>\n",
       "      <td>1</td>\n",
       "      <td>0</td>\n",
       "      <td>0</td>\n",
       "      <td>0</td>\n",
       "      <td>0</td>\n",
       "      <td>0</td>\n",
       "      <td>1</td>\n",
       "      <td>1</td>\n",
       "    </tr>\n",
       "    <tr>\n",
       "      <th>4</th>\n",
       "      <td>23</td>\n",
       "      <td>0</td>\n",
       "      <td>7</td>\n",
       "      <td>2</td>\n",
       "      <td>0</td>\n",
       "      <td>7</td>\n",
       "      <td>0</td>\n",
       "      <td>3</td>\n",
       "      <td>1</td>\n",
       "      <td>1</td>\n",
       "      <td>...</td>\n",
       "      <td>0</td>\n",
       "      <td>0</td>\n",
       "      <td>1</td>\n",
       "      <td>0</td>\n",
       "      <td>0</td>\n",
       "      <td>0</td>\n",
       "      <td>0</td>\n",
       "      <td>0</td>\n",
       "      <td>1</td>\n",
       "      <td>1</td>\n",
       "    </tr>\n",
       "  </tbody>\n",
       "</table>\n",
       "<p>5 rows × 41 columns</p>\n",
       "</div>"
      ],
      "text/plain": [
       "   Num_Lab_Procedures  Num_Procedures  Num_Medications  Race  Gender  Age  \\\n",
       "0                  89               2               27     2       1    8   \n",
       "1                  33               6                8     2       1    5   \n",
       "2                  26               1               11     2       0    4   \n",
       "3                  62               0               14     2       1    8   \n",
       "4                  23               0                7     2       0    7   \n",
       "\n",
       "   Weight  Admission Type  Discharge Disposition  Admission Source  ...  \\\n",
       "0       0               3                      1                 2  ...   \n",
       "1       0               1                      1                 0  ...   \n",
       "2       0               1                      1                 2  ...   \n",
       "3       0               1                      1                 0  ...   \n",
       "4       0               3                      1                 1  ...   \n",
       "\n",
       "   Examide  Citoglipton  Insulin  Glyburide-Metformin  Glipizide-Metformin  \\\n",
       "0        0            0        2                    0                    0   \n",
       "1        0            0        0                    0                    0   \n",
       "2        0            0        1                    0                    0   \n",
       "3        0            0        1                    0                    0   \n",
       "4        0            0        1                    0                    0   \n",
       "\n",
       "   Glimepiride-Pioglitazone  Metformin-Rosiglitazone  Metformin-Pioglitazone  \\\n",
       "0                         0                        0                       0   \n",
       "1                         0                        0                       0   \n",
       "2                         0                        0                       0   \n",
       "3                         0                        0                       0   \n",
       "4                         0                        0                       0   \n",
       "\n",
       "   Change  Diabetesmed  \n",
       "0       0            1  \n",
       "1       0            1  \n",
       "2       1            0  \n",
       "3       1            1  \n",
       "4       1            1  \n",
       "\n",
       "[5 rows x 41 columns]"
      ]
     },
     "execution_count": 47,
     "metadata": {},
     "output_type": "execute_result"
    }
   ],
   "source": [
    "test_final_re_ad.head()"
   ]
  },
  {
   "cell_type": "markdown",
   "metadata": {},
   "source": [
    "# Model building"
   ]
  },
  {
   "cell_type": "code",
   "execution_count": 48,
   "metadata": {},
   "outputs": [
    {
     "name": "stdout",
     "output_type": "stream",
     "text": [
      "X.shape:  (36538, 41)\n",
      "Y.shape:  (36538,)\n"
     ]
    }
   ],
   "source": [
    "X = final_re_ad.loc[:,final_re_ad.columns!='Readmitted'].values\n",
    "Y = final_re_ad.loc[:,'Readmitted'].values\n",
    "print('X.shape: ', X.shape)\n",
    "print('Y.shape: ', Y.shape)"
   ]
  },
  {
   "cell_type": "code",
   "execution_count": 49,
   "metadata": {},
   "outputs": [],
   "source": [
    "from sklearn.model_selection import train_test_split"
   ]
  },
  {
   "cell_type": "code",
   "execution_count": 50,
   "metadata": {},
   "outputs": [],
   "source": [
    "X_train, X_test, y_train, y_test = train_test_split(X,Y,test_size=0.3,random_state=123)"
   ]
  },
  {
   "cell_type": "code",
   "execution_count": 51,
   "metadata": {},
   "outputs": [],
   "source": [
    "from xgboost import XGBClassifier"
   ]
  },
  {
   "cell_type": "code",
   "execution_count": 52,
   "metadata": {},
   "outputs": [],
   "source": [
    "XGB_model = XGBClassifier(n_estimators=500, gamma=0.5,learning_rate=0.1)"
   ]
  },
  {
   "cell_type": "code",
   "execution_count": 53,
   "metadata": {},
   "outputs": [
    {
     "data": {
      "text/plain": [
       "XGBClassifier(base_score=0.5, booster='gbtree', colsample_bylevel=1,\n",
       "              colsample_bynode=1, colsample_bytree=1, gamma=0.5,\n",
       "              learning_rate=0.1, max_delta_step=0, max_depth=3,\n",
       "              min_child_weight=1, missing=None, n_estimators=500, n_jobs=1,\n",
       "              nthread=None, objective='binary:logistic', random_state=0,\n",
       "              reg_alpha=0, reg_lambda=1, scale_pos_weight=1, seed=None,\n",
       "              silent=None, subsample=1, verbosity=1)"
      ]
     },
     "execution_count": 53,
     "metadata": {},
     "output_type": "execute_result"
    }
   ],
   "source": [
    "XGB_model.fit(X_train,y_train)"
   ]
  },
  {
   "cell_type": "code",
   "execution_count": 54,
   "metadata": {},
   "outputs": [],
   "source": [
    "y_train_xg_pred=XGB_model.predict(X_train)\n",
    "y_val_xg_pred=XGB_model.predict(X_test)"
   ]
  },
  {
   "cell_type": "code",
   "execution_count": 55,
   "metadata": {},
   "outputs": [],
   "source": [
    "from sklearn.model_selection import GridSearchCV\n",
    "\n",
    "from sklearn.metrics import accuracy_score,classification_report, recall_score, precision_score,confusion_matrix"
   ]
  },
  {
   "cell_type": "code",
   "execution_count": 56,
   "metadata": {
    "scrolled": true
   },
   "outputs": [
    {
     "name": "stdout",
     "output_type": "stream",
     "text": [
      "0.779237365444262\n",
      "              precision    recall  f1-score   support\n",
      "\n",
      "           0     0.6981    0.4762    0.5662      3316\n",
      "           1     0.8003    0.9107    0.8520      7646\n",
      "\n",
      "    accuracy                         0.7792     10962\n",
      "   macro avg     0.7492    0.6934    0.7091     10962\n",
      "weighted avg     0.7694    0.7792    0.7655     10962\n",
      "\n"
     ]
    }
   ],
   "source": [
    "print(accuracy_score(y_test,y_val_xg_pred))\n",
    "print(classification_report(y_test,y_val_xg_pred,digits=4))"
   ]
  },
  {
   "cell_type": "code",
   "execution_count": 57,
   "metadata": {},
   "outputs": [],
   "source": [
    "confusion_matrix_test = confusion_matrix(y_test,y_val_xg_pred)\n",
    "confusion_matrix_train = confusion_matrix(y_train, y_train_xg_pred)"
   ]
  },
  {
   "cell_type": "code",
   "execution_count": 58,
   "metadata": {},
   "outputs": [
    {
     "name": "stdout",
     "output_type": "stream",
     "text": [
      "Train TNR:  0.521181001283697\n",
      "Train TPR:  0.9204992690880468\n",
      "Train Accuracy:  0.7988739443228027\n"
     ]
    }
   ],
   "source": [
    "Accuracy_Train=(confusion_matrix_train[0,0]+confusion_matrix_train[1,1])/(confusion_matrix_train[0,0]+confusion_matrix_train[0,1]+confusion_matrix_train[1,0]+confusion_matrix_train[1,1])\n",
    "TNR_Train= confusion_matrix_train[0,0]/(confusion_matrix_train[0,0]+confusion_matrix_train[0,1])\n",
    "TPR_Train= confusion_matrix_train[1,1]/(confusion_matrix_train[1,0]+confusion_matrix_train[1,1])\n",
    "\n",
    "print(\"Train TNR: \",TNR_Train)\n",
    "print(\"Train TPR: \",TPR_Train)\n",
    "print(\"Train Accuracy: \",Accuracy_Train)\n"
   ]
  },
  {
   "cell_type": "markdown",
   "metadata": {},
   "source": [
    "# Test predictions of XG model has been the best of the all the other models built ,as it has the balanced TPR and TNR than the other ,which in return reduces the false negatives in the model which are area of the focus is "
   ]
  },
  {
   "cell_type": "code",
   "execution_count": 59,
   "metadata": {},
   "outputs": [
    {
     "name": "stdout",
     "output_type": "stream",
     "text": [
      "Test TNR:  0.4761761158021713\n",
      "Test TPR:  0.9106722469264975\n",
      "Test Accuracy:  0.779237365444262\n"
     ]
    }
   ],
   "source": [
    "Accuracy_Test=(confusion_matrix_test[0,0]+confusion_matrix_test[1,1])/(confusion_matrix_test[0,0]+confusion_matrix_test[0,1]+confusion_matrix_test[1,0]+confusion_matrix_test[1,1])\n",
    "TNR_Test= confusion_matrix_test[0,0]/(confusion_matrix_test[0,0] +confusion_matrix_test[0,1])\n",
    "TPR_Test= confusion_matrix_test[1,1]/(confusion_matrix_test[1,0] +confusion_matrix_test[1,1])\n",
    "\n",
    "print(\"Test TNR: \",TNR_Test)\n",
    "print(\"Test TPR: \",TPR_Test)\n",
    "print(\"Test Accuracy: \",Accuracy_Test)"
   ]
  },
  {
   "cell_type": "code",
   "execution_count": null,
   "metadata": {},
   "outputs": [],
   "source": []
  },
  {
   "cell_type": "code",
   "execution_count": null,
   "metadata": {},
   "outputs": [],
   "source": []
  },
  {
   "cell_type": "markdown",
   "metadata": {},
   "source": [
    "# Test predictions on the unseen test data"
   ]
  },
  {
   "cell_type": "code",
   "execution_count": 75,
   "metadata": {},
   "outputs": [],
   "source": [
    "predictions=XGB_model.predict(test_final_re_ad.values)"
   ]
  },
  {
   "cell_type": "code",
   "execution_count": 76,
   "metadata": {},
   "outputs": [
    {
     "data": {
      "text/plain": [
       "array([0, 1, 1, ..., 1, 1, 1])"
      ]
     },
     "execution_count": 76,
     "metadata": {},
     "output_type": "execute_result"
    }
   ],
   "source": [
    "predictions"
   ]
  },
  {
   "cell_type": "code",
   "execution_count": 77,
   "metadata": {},
   "outputs": [],
   "source": [
    "test_final_re_ad['predictions']=predictions"
   ]
  },
  {
   "cell_type": "code",
   "execution_count": 78,
   "metadata": {},
   "outputs": [
    {
     "data": {
      "text/html": [
       "<div>\n",
       "<style scoped>\n",
       "    .dataframe tbody tr th:only-of-type {\n",
       "        vertical-align: middle;\n",
       "    }\n",
       "\n",
       "    .dataframe tbody tr th {\n",
       "        vertical-align: top;\n",
       "    }\n",
       "\n",
       "    .dataframe thead th {\n",
       "        text-align: right;\n",
       "    }\n",
       "</style>\n",
       "<table border=\"1\" class=\"dataframe\">\n",
       "  <thead>\n",
       "    <tr style=\"text-align: right;\">\n",
       "      <th></th>\n",
       "      <th>Num_Lab_Procedures</th>\n",
       "      <th>Num_Procedures</th>\n",
       "      <th>Num_Medications</th>\n",
       "      <th>Race</th>\n",
       "      <th>Gender</th>\n",
       "      <th>Age</th>\n",
       "      <th>Weight</th>\n",
       "      <th>Admission Type</th>\n",
       "      <th>Discharge Disposition</th>\n",
       "      <th>Admission Source</th>\n",
       "      <th>...</th>\n",
       "      <th>Citoglipton</th>\n",
       "      <th>Insulin</th>\n",
       "      <th>Glyburide-Metformin</th>\n",
       "      <th>Glipizide-Metformin</th>\n",
       "      <th>Glimepiride-Pioglitazone</th>\n",
       "      <th>Metformin-Rosiglitazone</th>\n",
       "      <th>Metformin-Pioglitazone</th>\n",
       "      <th>Change</th>\n",
       "      <th>Diabetesmed</th>\n",
       "      <th>predictions</th>\n",
       "    </tr>\n",
       "  </thead>\n",
       "  <tbody>\n",
       "    <tr>\n",
       "      <th>0</th>\n",
       "      <td>89</td>\n",
       "      <td>2</td>\n",
       "      <td>27</td>\n",
       "      <td>2</td>\n",
       "      <td>1</td>\n",
       "      <td>8</td>\n",
       "      <td>0</td>\n",
       "      <td>3</td>\n",
       "      <td>1</td>\n",
       "      <td>2</td>\n",
       "      <td>...</td>\n",
       "      <td>0</td>\n",
       "      <td>2</td>\n",
       "      <td>0</td>\n",
       "      <td>0</td>\n",
       "      <td>0</td>\n",
       "      <td>0</td>\n",
       "      <td>0</td>\n",
       "      <td>0</td>\n",
       "      <td>1</td>\n",
       "      <td>0</td>\n",
       "    </tr>\n",
       "    <tr>\n",
       "      <th>1</th>\n",
       "      <td>33</td>\n",
       "      <td>6</td>\n",
       "      <td>8</td>\n",
       "      <td>2</td>\n",
       "      <td>1</td>\n",
       "      <td>5</td>\n",
       "      <td>0</td>\n",
       "      <td>1</td>\n",
       "      <td>1</td>\n",
       "      <td>0</td>\n",
       "      <td>...</td>\n",
       "      <td>0</td>\n",
       "      <td>0</td>\n",
       "      <td>0</td>\n",
       "      <td>0</td>\n",
       "      <td>0</td>\n",
       "      <td>0</td>\n",
       "      <td>0</td>\n",
       "      <td>0</td>\n",
       "      <td>1</td>\n",
       "      <td>1</td>\n",
       "    </tr>\n",
       "    <tr>\n",
       "      <th>2</th>\n",
       "      <td>26</td>\n",
       "      <td>1</td>\n",
       "      <td>11</td>\n",
       "      <td>2</td>\n",
       "      <td>0</td>\n",
       "      <td>4</td>\n",
       "      <td>0</td>\n",
       "      <td>1</td>\n",
       "      <td>1</td>\n",
       "      <td>2</td>\n",
       "      <td>...</td>\n",
       "      <td>0</td>\n",
       "      <td>1</td>\n",
       "      <td>0</td>\n",
       "      <td>0</td>\n",
       "      <td>0</td>\n",
       "      <td>0</td>\n",
       "      <td>0</td>\n",
       "      <td>1</td>\n",
       "      <td>0</td>\n",
       "      <td>1</td>\n",
       "    </tr>\n",
       "    <tr>\n",
       "      <th>3</th>\n",
       "      <td>62</td>\n",
       "      <td>0</td>\n",
       "      <td>14</td>\n",
       "      <td>2</td>\n",
       "      <td>1</td>\n",
       "      <td>8</td>\n",
       "      <td>0</td>\n",
       "      <td>1</td>\n",
       "      <td>1</td>\n",
       "      <td>0</td>\n",
       "      <td>...</td>\n",
       "      <td>0</td>\n",
       "      <td>1</td>\n",
       "      <td>0</td>\n",
       "      <td>0</td>\n",
       "      <td>0</td>\n",
       "      <td>0</td>\n",
       "      <td>0</td>\n",
       "      <td>1</td>\n",
       "      <td>1</td>\n",
       "      <td>1</td>\n",
       "    </tr>\n",
       "    <tr>\n",
       "      <th>4</th>\n",
       "      <td>23</td>\n",
       "      <td>0</td>\n",
       "      <td>7</td>\n",
       "      <td>2</td>\n",
       "      <td>0</td>\n",
       "      <td>7</td>\n",
       "      <td>0</td>\n",
       "      <td>3</td>\n",
       "      <td>1</td>\n",
       "      <td>1</td>\n",
       "      <td>...</td>\n",
       "      <td>0</td>\n",
       "      <td>1</td>\n",
       "      <td>0</td>\n",
       "      <td>0</td>\n",
       "      <td>0</td>\n",
       "      <td>0</td>\n",
       "      <td>0</td>\n",
       "      <td>1</td>\n",
       "      <td>1</td>\n",
       "      <td>0</td>\n",
       "    </tr>\n",
       "  </tbody>\n",
       "</table>\n",
       "<p>5 rows × 42 columns</p>\n",
       "</div>"
      ],
      "text/plain": [
       "   Num_Lab_Procedures  Num_Procedures  Num_Medications  Race  Gender  Age  \\\n",
       "0                  89               2               27     2       1    8   \n",
       "1                  33               6                8     2       1    5   \n",
       "2                  26               1               11     2       0    4   \n",
       "3                  62               0               14     2       1    8   \n",
       "4                  23               0                7     2       0    7   \n",
       "\n",
       "   Weight  Admission Type  Discharge Disposition  Admission Source  ...  \\\n",
       "0       0               3                      1                 2  ...   \n",
       "1       0               1                      1                 0  ...   \n",
       "2       0               1                      1                 2  ...   \n",
       "3       0               1                      1                 0  ...   \n",
       "4       0               3                      1                 1  ...   \n",
       "\n",
       "   Citoglipton  Insulin  Glyburide-Metformin  Glipizide-Metformin  \\\n",
       "0            0        2                    0                    0   \n",
       "1            0        0                    0                    0   \n",
       "2            0        1                    0                    0   \n",
       "3            0        1                    0                    0   \n",
       "4            0        1                    0                    0   \n",
       "\n",
       "   Glimepiride-Pioglitazone  Metformin-Rosiglitazone  Metformin-Pioglitazone  \\\n",
       "0                         0                        0                       0   \n",
       "1                         0                        0                       0   \n",
       "2                         0                        0                       0   \n",
       "3                         0                        0                       0   \n",
       "4                         0                        0                       0   \n",
       "\n",
       "   Change  Diabetesmed  predictions  \n",
       "0       0            1            0  \n",
       "1       0            1            1  \n",
       "2       1            0            1  \n",
       "3       1            1            1  \n",
       "4       1            1            0  \n",
       "\n",
       "[5 rows x 42 columns]"
      ]
     },
     "execution_count": 78,
     "metadata": {},
     "output_type": "execute_result"
    }
   ],
   "source": [
    "test_final_re_ad.head()"
   ]
  },
  {
   "cell_type": "code",
   "execution_count": null,
   "metadata": {},
   "outputs": [],
   "source": []
  },
  {
   "cell_type": "markdown",
   "metadata": {},
   "source": [
    "# Grid search for XGB classifier model"
   ]
  },
  {
   "cell_type": "code",
   "execution_count": 79,
   "metadata": {},
   "outputs": [],
   "source": [
    "XGB = XGBClassifier(n_jobs=-1)\n",
    "\n",
    "param_grid = {\n",
    "     'colsample_bytree': np.linspace(0.5, 0.9, 2),\n",
    "     'n_estimators':[100,50],\n",
    "     'max_depth': [10, 15]\n",
    "}\n",
    "\n",
    " \n",
    "CV_XGB = GridSearchCV(estimator=XGB, param_grid=param_grid, cv= 10)"
   ]
  },
  {
   "cell_type": "code",
   "execution_count": 80,
   "metadata": {},
   "outputs": [
    {
     "data": {
      "text/plain": [
       "GridSearchCV(cv=10, error_score='raise-deprecating',\n",
       "             estimator=XGBClassifier(base_score=0.5, booster='gbtree',\n",
       "                                     colsample_bylevel=1, colsample_bynode=1,\n",
       "                                     colsample_bytree=1, gamma=0,\n",
       "                                     learning_rate=0.1, max_delta_step=0,\n",
       "                                     max_depth=3, min_child_weight=1,\n",
       "                                     missing=None, n_estimators=100, n_jobs=-1,\n",
       "                                     nthread=None, objective='binary:logistic',\n",
       "                                     random_state=0, reg_alpha=0, reg_lambda=1,\n",
       "                                     scale_pos_weight=1, seed=None, silent=None,\n",
       "                                     subsample=1, verbosity=1),\n",
       "             iid='warn', n_jobs=None,\n",
       "             param_grid={'colsample_bytree': array([0.5, 0.9]),\n",
       "                         'max_depth': [10, 15], 'n_estimators': [100, 50]},\n",
       "             pre_dispatch='2*n_jobs', refit=True, return_train_score=False,\n",
       "             scoring=None, verbose=0)"
      ]
     },
     "execution_count": 80,
     "metadata": {},
     "output_type": "execute_result"
    }
   ],
   "source": [
    "CV_XGB.fit(X = X_train, y=y_train)"
   ]
  },
  {
   "cell_type": "code",
   "execution_count": 84,
   "metadata": {},
   "outputs": [],
   "source": [
    "y_train_xg_pred_CV=CV_XGB.predict(X_train)\n",
    "y_val_xg_pred_CV=CV_XGB.predict(X_test)"
   ]
  },
  {
   "cell_type": "code",
   "execution_count": 83,
   "metadata": {},
   "outputs": [],
   "source": [
    "from sklearn.model_selection import GridSearchCV\n",
    "\n",
    "from sklearn.metrics import accuracy_score,classification_report, recall_score, precision_score,confusion_matrix"
   ]
  },
  {
   "cell_type": "code",
   "execution_count": 86,
   "metadata": {},
   "outputs": [],
   "source": [
    "confusion_matrix_test_CV = confusion_matrix(y_test,y_val_xg_pred_CV)\n",
    "confusion_matrix_train_CV = confusion_matrix(y_train, y_train_xg_pred_CV)"
   ]
  },
  {
   "cell_type": "code",
   "execution_count": 87,
   "metadata": {},
   "outputs": [
    {
     "name": "stdout",
     "output_type": "stream",
     "text": [
      "Train TNR:  0.6002567394094993\n",
      "Train TPR:  0.96114921848645\n",
      "Train Accuracy:  0.8512277134813888\n"
     ]
    }
   ],
   "source": [
    "Accuracy_Train=(confusion_matrix_train_CV[0,0]+confusion_matrix_train_CV[1,1])/(confusion_matrix_train_CV[0,0]+confusion_matrix_train_CV[0,1]+confusion_matrix_train[1,0]+confusion_matrix_train[1,1])\n",
    "TNR_Train= confusion_matrix_train_CV[0,0]/(confusion_matrix_train_CV[0,0]+confusion_matrix_train_CV[0,1])\n",
    "TPR_Train= confusion_matrix_train_CV[1,1]/(confusion_matrix_train_CV[1,0]+confusion_matrix_train_CV[1,1])\n",
    "\n",
    "print(\"Train TNR: \",TNR_Train)\n",
    "print(\"Train TPR: \",TPR_Train)\n",
    "print(\"Train Accuracy: \",Accuracy_Train)"
   ]
  },
  {
   "cell_type": "code",
   "execution_count": 88,
   "metadata": {},
   "outputs": [
    {
     "name": "stdout",
     "output_type": "stream",
     "text": [
      "Test TNR:  0.45928829915560915\n",
      "Test TPR:  0.9223123201674078\n",
      "Test Accuracy:  0.7822477650063857\n"
     ]
    }
   ],
   "source": [
    "\n",
    "Accuracy_Test=(confusion_matrix_test_CV[0,0]+confusion_matrix_test_CV[1,1])/(confusion_matrix_test_CV[0,0]+confusion_matrix_test_CV[0,1]+confusion_matrix_test[1,0]+confusion_matrix_test[1,1])\n",
    "TNR_Test= confusion_matrix_test_CV[0,0]/(confusion_matrix_test_CV[0,0] +confusion_matrix_test_CV[0,1])\n",
    "TPR_Test= confusion_matrix_test_CV[1,1]/(confusion_matrix_test_CV[1,0] +confusion_matrix_test_CV[1,1])\n",
    "\n",
    "print(\"Test TNR: \",TNR_Test)\n",
    "print(\"Test TPR: \",TPR_Test)\n",
    "print(\"Test Accuracy: \",Accuracy_Test)"
   ]
  },
  {
   "cell_type": "markdown",
   "metadata": {},
   "source": [
    "# Test predictions of grid_cv_Xg"
   ]
  },
  {
   "cell_type": "code",
   "execution_count": null,
   "metadata": {},
   "outputs": [],
   "source": []
  },
  {
   "cell_type": "code",
   "execution_count": null,
   "metadata": {},
   "outputs": [],
   "source": []
  },
  {
   "cell_type": "markdown",
   "metadata": {},
   "source": [
    "# SVC model"
   ]
  },
  {
   "cell_type": "code",
   "execution_count": 52,
   "metadata": {},
   "outputs": [],
   "source": [
    "from sklearn.svm import SVC"
   ]
  },
  {
   "cell_type": "code",
   "execution_count": 53,
   "metadata": {},
   "outputs": [],
   "source": [
    "from sklearn.model_selection import RandomizedSearchCV"
   ]
  },
  {
   "cell_type": "code",
   "execution_count": null,
   "metadata": {},
   "outputs": [],
   "source": [
    "X = final_re_ad.loc[:,final_re_ad.columns!='Readmitted'].values\n",
    "Y = final_re_ad.loc[:,'Readmitted'].values\n",
    "print('X.shape: ', X.shape)\n",
    "print('Y.shape: ', Y.shape)"
   ]
  },
  {
   "cell_type": "code",
   "execution_count": null,
   "metadata": {},
   "outputs": [],
   "source": [
    "X_train, X_test, y_train, y_test = train_test_split(X,Y,test_size=0.3,random_state=123)"
   ]
  },
  {
   "cell_type": "code",
   "execution_count": null,
   "metadata": {},
   "outputs": [],
   "source": []
  },
  {
   "cell_type": "code",
   "execution_count": 54,
   "metadata": {},
   "outputs": [],
   "source": [
    "param_grid = {'C': [0.1,1, 10, 100], 'gamma': [1,0.1,0.01,0.001],'kernel': ['rbf']}"
   ]
  },
  {
   "cell_type": "code",
   "execution_count": 57,
   "metadata": {},
   "outputs": [
    {
     "name": "stderr",
     "output_type": "stream",
     "text": [
      "C:\\ProgramData\\Anaconda3\\lib\\site-packages\\sklearn\\model_selection\\_split.py:1978: FutureWarning: The default value of cv will change from 3 to 5 in version 0.22. Specify it explicitly to silence this warning.\n",
      "  warnings.warn(CV_WARNING, FutureWarning)\n",
      "[Parallel(n_jobs=1)]: Using backend SequentialBackend with 1 concurrent workers.\n"
     ]
    },
    {
     "name": "stdout",
     "output_type": "stream",
     "text": [
      "Fitting 3 folds for each of 16 candidates, totalling 48 fits\n",
      "[CV] C=0.1, gamma=1, kernel=rbf ......................................\n",
      "[CV] ....................... C=0.1, gamma=1, kernel=rbf, total= 1.1min\n",
      "[CV] C=0.1, gamma=1, kernel=rbf ......................................\n"
     ]
    },
    {
     "name": "stderr",
     "output_type": "stream",
     "text": [
      "[Parallel(n_jobs=1)]: Done   1 out of   1 | elapsed:  1.1min remaining:    0.0s\n"
     ]
    },
    {
     "name": "stdout",
     "output_type": "stream",
     "text": [
      "[CV] ....................... C=0.1, gamma=1, kernel=rbf, total= 1.1min\n",
      "[CV] C=0.1, gamma=1, kernel=rbf ......................................\n",
      "[CV] ....................... C=0.1, gamma=1, kernel=rbf, total= 1.2min\n",
      "[CV] C=0.1, gamma=0.1, kernel=rbf ....................................\n",
      "[CV] ..................... C=0.1, gamma=0.1, kernel=rbf, total=  50.5s\n",
      "[CV] C=0.1, gamma=0.1, kernel=rbf ....................................\n",
      "[CV] ..................... C=0.1, gamma=0.1, kernel=rbf, total=  50.0s\n",
      "[CV] C=0.1, gamma=0.1, kernel=rbf ....................................\n",
      "[CV] ..................... C=0.1, gamma=0.1, kernel=rbf, total=  51.9s\n",
      "[CV] C=0.1, gamma=0.01, kernel=rbf ...................................\n",
      "[CV] .................... C=0.1, gamma=0.01, kernel=rbf, total=  22.6s\n",
      "[CV] C=0.1, gamma=0.01, kernel=rbf ...................................\n",
      "[CV] .................... C=0.1, gamma=0.01, kernel=rbf, total=  22.8s\n",
      "[CV] C=0.1, gamma=0.01, kernel=rbf ...................................\n",
      "[CV] .................... C=0.1, gamma=0.01, kernel=rbf, total=  22.8s\n",
      "[CV] C=0.1, gamma=0.001, kernel=rbf ..................................\n",
      "[CV] ................... C=0.1, gamma=0.001, kernel=rbf, total=  21.9s\n",
      "[CV] C=0.1, gamma=0.001, kernel=rbf ..................................\n",
      "[CV] ................... C=0.1, gamma=0.001, kernel=rbf, total=  21.8s\n",
      "[CV] C=0.1, gamma=0.001, kernel=rbf ..................................\n",
      "[CV] ................... C=0.1, gamma=0.001, kernel=rbf, total=  22.5s\n",
      "[CV] C=1, gamma=1, kernel=rbf ........................................\n",
      "[CV] ......................... C=1, gamma=1, kernel=rbf, total= 1.4min\n",
      "[CV] C=1, gamma=1, kernel=rbf ........................................\n",
      "[CV] ......................... C=1, gamma=1, kernel=rbf, total= 1.4min\n",
      "[CV] C=1, gamma=1, kernel=rbf ........................................\n",
      "[CV] ......................... C=1, gamma=1, kernel=rbf, total= 1.4min\n",
      "[CV] C=1, gamma=0.1, kernel=rbf ......................................\n",
      "[CV] ....................... C=1, gamma=0.1, kernel=rbf, total=  50.5s\n",
      "[CV] C=1, gamma=0.1, kernel=rbf ......................................\n",
      "[CV] ....................... C=1, gamma=0.1, kernel=rbf, total=  49.6s\n",
      "[CV] C=1, gamma=0.1, kernel=rbf ......................................\n",
      "[CV] ....................... C=1, gamma=0.1, kernel=rbf, total=  50.0s\n",
      "[CV] C=1, gamma=0.01, kernel=rbf .....................................\n",
      "[CV] ...................... C=1, gamma=0.01, kernel=rbf, total=  22.2s\n",
      "[CV] C=1, gamma=0.01, kernel=rbf .....................................\n",
      "[CV] ...................... C=1, gamma=0.01, kernel=rbf, total=  22.2s\n",
      "[CV] C=1, gamma=0.01, kernel=rbf .....................................\n",
      "[CV] ...................... C=1, gamma=0.01, kernel=rbf, total=  22.7s\n",
      "[CV] C=1, gamma=0.001, kernel=rbf ....................................\n",
      "[CV] ..................... C=1, gamma=0.001, kernel=rbf, total=  23.3s\n",
      "[CV] C=1, gamma=0.001, kernel=rbf ....................................\n",
      "[CV] ..................... C=1, gamma=0.001, kernel=rbf, total=  24.4s\n",
      "[CV] C=1, gamma=0.001, kernel=rbf ....................................\n",
      "[CV] ..................... C=1, gamma=0.001, kernel=rbf, total=  23.9s\n",
      "[CV] C=10, gamma=1, kernel=rbf .......................................\n",
      "[CV] ........................ C=10, gamma=1, kernel=rbf, total= 2.2min\n",
      "[CV] C=10, gamma=1, kernel=rbf .......................................\n",
      "[CV] ........................ C=10, gamma=1, kernel=rbf, total= 2.1min\n",
      "[CV] C=10, gamma=1, kernel=rbf .......................................\n",
      "[CV] ........................ C=10, gamma=1, kernel=rbf, total= 2.2min\n",
      "[CV] C=10, gamma=0.1, kernel=rbf .....................................\n",
      "[CV] ...................... C=10, gamma=0.1, kernel=rbf, total= 1.5min\n",
      "[CV] C=10, gamma=0.1, kernel=rbf .....................................\n",
      "[CV] ...................... C=10, gamma=0.1, kernel=rbf, total= 1.5min\n",
      "[CV] C=10, gamma=0.1, kernel=rbf .....................................\n",
      "[CV] ...................... C=10, gamma=0.1, kernel=rbf, total= 1.5min\n",
      "[CV] C=10, gamma=0.01, kernel=rbf ....................................\n",
      "[CV] ..................... C=10, gamma=0.01, kernel=rbf, total=  33.1s\n",
      "[CV] C=10, gamma=0.01, kernel=rbf ....................................\n",
      "[CV] ..................... C=10, gamma=0.01, kernel=rbf, total=  29.6s\n",
      "[CV] C=10, gamma=0.01, kernel=rbf ....................................\n",
      "[CV] ..................... C=10, gamma=0.01, kernel=rbf, total=  29.6s\n",
      "[CV] C=10, gamma=0.001, kernel=rbf ...................................\n",
      "[CV] .................... C=10, gamma=0.001, kernel=rbf, total=  26.7s\n",
      "[CV] C=10, gamma=0.001, kernel=rbf ...................................\n",
      "[CV] .................... C=10, gamma=0.001, kernel=rbf, total=  26.6s\n",
      "[CV] C=10, gamma=0.001, kernel=rbf ...................................\n",
      "[CV] .................... C=10, gamma=0.001, kernel=rbf, total=  25.7s\n",
      "[CV] C=100, gamma=1, kernel=rbf ......................................\n",
      "[CV] ....................... C=100, gamma=1, kernel=rbf, total= 2.1min\n",
      "[CV] C=100, gamma=1, kernel=rbf ......................................\n",
      "[CV] ....................... C=100, gamma=1, kernel=rbf, total= 2.2min\n",
      "[CV] C=100, gamma=1, kernel=rbf ......................................\n",
      "[CV] ....................... C=100, gamma=1, kernel=rbf, total= 2.1min\n",
      "[CV] C=100, gamma=0.1, kernel=rbf ....................................\n",
      "[CV] ..................... C=100, gamma=0.1, kernel=rbf, total= 1.5min\n",
      "[CV] C=100, gamma=0.1, kernel=rbf ....................................\n",
      "[CV] ..................... C=100, gamma=0.1, kernel=rbf, total= 1.6min\n",
      "[CV] C=100, gamma=0.1, kernel=rbf ....................................\n",
      "[CV] ..................... C=100, gamma=0.1, kernel=rbf, total= 1.6min\n",
      "[CV] C=100, gamma=0.01, kernel=rbf ...................................\n",
      "[CV] .................... C=100, gamma=0.01, kernel=rbf, total= 1.9min\n",
      "[CV] C=100, gamma=0.01, kernel=rbf ...................................\n",
      "[CV] .................... C=100, gamma=0.01, kernel=rbf, total= 1.9min\n",
      "[CV] C=100, gamma=0.01, kernel=rbf ...................................\n",
      "[CV] .................... C=100, gamma=0.01, kernel=rbf, total= 2.0min\n",
      "[CV] C=100, gamma=0.001, kernel=rbf ..................................\n",
      "[CV] ................... C=100, gamma=0.001, kernel=rbf, total=  37.2s\n",
      "[CV] C=100, gamma=0.001, kernel=rbf ..................................\n",
      "[CV] ................... C=100, gamma=0.001, kernel=rbf, total=  36.6s\n",
      "[CV] C=100, gamma=0.001, kernel=rbf ..................................\n",
      "[CV] ................... C=100, gamma=0.001, kernel=rbf, total=  33.9s\n"
     ]
    },
    {
     "name": "stderr",
     "output_type": "stream",
     "text": [
      "[Parallel(n_jobs=1)]: Done  48 out of  48 | elapsed: 49.7min finished\n"
     ]
    },
    {
     "data": {
      "text/plain": [
       "GridSearchCV(cv='warn', error_score='raise-deprecating',\n",
       "             estimator=SVC(C=1.0, cache_size=200, class_weight=None, coef0=0.0,\n",
       "                           decision_function_shape='ovr', degree=3,\n",
       "                           gamma='auto_deprecated', kernel='rbf', max_iter=-1,\n",
       "                           probability=False, random_state=None, shrinking=True,\n",
       "                           tol=0.001, verbose=False),\n",
       "             iid='warn', n_jobs=None,\n",
       "             param_grid={'C': [0.1, 1, 10, 100], 'gamma': [1, 0.1, 0.01, 0.001],\n",
       "                         'kernel': ['rbf']},\n",
       "             pre_dispatch='2*n_jobs', refit=True, return_train_score=False,\n",
       "             scoring=None, verbose=2)"
      ]
     },
     "execution_count": 57,
     "metadata": {},
     "output_type": "execute_result"
    }
   ],
   "source": [
    "grid_svc = GridSearchCV(SVC(),param_grid,refit=True,verbose=2)\n",
    "grid_svc.fit(X_train,y_train)"
   ]
  },
  {
   "cell_type": "code",
   "execution_count": 81,
   "metadata": {},
   "outputs": [],
   "source": [
    "y_train_svc=grid_svc.predict(X_train)\n",
    "y_val_svc=grid_svc.predict(X_test)"
   ]
  },
  {
   "cell_type": "code",
   "execution_count": 82,
   "metadata": {},
   "outputs": [],
   "source": [
    "confusion_matrix_test_svc = confusion_matrix(y_test,y_val_svc)\n",
    "confusion_matrix_train_svc = confusion_matrix(y_train, y_train_svc)"
   ]
  },
  {
   "cell_type": "code",
   "execution_count": 83,
   "metadata": {},
   "outputs": [
    {
     "name": "stdout",
     "output_type": "stream",
     "text": [
      "Train TNR:  0.43928112965340177\n",
      "Train TPR:  0.947599235353649\n",
      "Train Accuracy:  0.7927744760713169\n"
     ]
    }
   ],
   "source": [
    "Accuracy_Train=(confusion_matrix_train_svc[0,0]+confusion_matrix_train_svc[1,1])/(confusion_matrix_train_svc[0,0]+confusion_matrix_train_svc[0,1]+confusion_matrix_train_svc[1,0]+confusion_matrix_train_svc[1,1])\n",
    "TNR_Train= confusion_matrix_train_svc[0,0]/(confusion_matrix_train_svc[0,0]+confusion_matrix_train_svc[0,1])\n",
    "TPR_Train= confusion_matrix_train_svc[1,1]/(confusion_matrix_train_svc[1,0]+confusion_matrix_train_svc[1,1])\n",
    "\n",
    "print(\"Train TNR: \",TNR_Train)\n",
    "print(\"Train TPR: \",TPR_Train)\n",
    "print(\"Train Accuracy: \",Accuracy_Train)"
   ]
  },
  {
   "cell_type": "code",
   "execution_count": 64,
   "metadata": {},
   "outputs": [
    {
     "name": "stdout",
     "output_type": "stream",
     "text": [
      "Test TNR:  0.3425814234016888\n",
      "Test TPR:  0.9211352341093382\n",
      "Test Accuracy:  0.7461229702609012\n"
     ]
    }
   ],
   "source": [
    "\n",
    "Accuracy_Test=(confusion_matrix_test_svc[0,0]+confusion_matrix_test_svc[1,1])/(confusion_matrix_test_svc[0,0]+confusion_matrix_test_svc[0,1]+confusion_matrix_test_svc[1,0]+confusion_matrix_test_svc[1,1])\n",
    "TNR_Test= confusion_matrix_test_svc[0,0]/(confusion_matrix_test_svc[0,0] +confusion_matrix_test_svc[0,1])\n",
    "TPR_Test= confusion_matrix_test_svc[1,1]/(confusion_matrix_test_svc[1,0] +confusion_matrix_test_svc[1,1])\n",
    "\n",
    "print(\"Test TNR: \",TNR_Test)\n",
    "print(\"Test TPR: \",TPR_Test)\n",
    "print(\"Test Accuracy: \",Accuracy_Test)"
   ]
  },
  {
   "cell_type": "code",
   "execution_count": null,
   "metadata": {},
   "outputs": [],
   "source": []
  },
  {
   "cell_type": "code",
   "execution_count": null,
   "metadata": {},
   "outputs": [],
   "source": []
  },
  {
   "cell_type": "code",
   "execution_count": null,
   "metadata": {},
   "outputs": [],
   "source": []
  },
  {
   "cell_type": "markdown",
   "metadata": {},
   "source": [
    "# Logistic regression model"
   ]
  },
  {
   "cell_type": "code",
   "execution_count": 60,
   "metadata": {},
   "outputs": [],
   "source": [
    " from sklearn.linear_model import LogisticRegression"
   ]
  },
  {
   "cell_type": "code",
   "execution_count": 61,
   "metadata": {},
   "outputs": [],
   "source": [
    "Logistic_model=LogisticRegression(random_state=0)"
   ]
  },
  {
   "cell_type": "code",
   "execution_count": 62,
   "metadata": {},
   "outputs": [
    {
     "name": "stderr",
     "output_type": "stream",
     "text": [
      "C:\\ProgramData\\Anaconda3\\lib\\site-packages\\sklearn\\linear_model\\logistic.py:432: FutureWarning: Default solver will be changed to 'lbfgs' in 0.22. Specify a solver to silence this warning.\n",
      "  FutureWarning)\n"
     ]
    },
    {
     "data": {
      "text/plain": [
       "LogisticRegression(C=1.0, class_weight=None, dual=False, fit_intercept=True,\n",
       "                   intercept_scaling=1, l1_ratio=None, max_iter=100,\n",
       "                   multi_class='warn', n_jobs=None, penalty='l2',\n",
       "                   random_state=0, solver='warn', tol=0.0001, verbose=0,\n",
       "                   warm_start=False)"
      ]
     },
     "execution_count": 62,
     "metadata": {},
     "output_type": "execute_result"
    }
   ],
   "source": [
    "Logistic_model.fit(X_train,y_train)"
   ]
  },
  {
   "cell_type": "code",
   "execution_count": 63,
   "metadata": {},
   "outputs": [],
   "source": [
    "logistic_train_pred=Logistic_model.predict(X_train)\n",
    "logistic_test_pred=Logistic_model.predict(X_test)"
   ]
  },
  {
   "cell_type": "code",
   "execution_count": 64,
   "metadata": {},
   "outputs": [],
   "source": [
    "confusion_matrix_test_logit = confusion_matrix(y_test,logistic_test_pred)\n",
    "confusion_matrix_train_logit= confusion_matrix(y_train, logistic_train_pred)"
   ]
  },
  {
   "cell_type": "code",
   "execution_count": 65,
   "metadata": {},
   "outputs": [
    {
     "name": "stdout",
     "output_type": "stream",
     "text": [
      "Train TNR:  0.362387676508344\n",
      "Train TPR:  0.9107162937141572\n",
      "Train Accuracy:  0.7437050359712231\n"
     ]
    }
   ],
   "source": [
    "Accuracy_Train=(confusion_matrix_train_logit[0,0]+confusion_matrix_train_logit[1,1])/(confusion_matrix_train_logit[0,0]+confusion_matrix_train_logit[0,1]+confusion_matrix_train_logit[1,0]+confusion_matrix_train_logit[1,1])\n",
    "TNR_Train= confusion_matrix_train_logit[0,0]/(confusion_matrix_train_logit[0,0]+confusion_matrix_train_logit[0,1])\n",
    "TPR_Train= confusion_matrix_train_logit[1,1]/(confusion_matrix_train_logit[1,0]+confusion_matrix_train_logit[1,1])\n",
    "\n",
    "print(\"Train TNR: \",TNR_Train)\n",
    "print(\"Train TPR: \",TPR_Train)\n",
    "print(\"Train Accuracy: \",Accuracy_Train)"
   ]
  },
  {
   "cell_type": "code",
   "execution_count": 66,
   "metadata": {},
   "outputs": [
    {
     "name": "stdout",
     "output_type": "stream",
     "text": [
      "Test TNR:  0.3428829915560917\n",
      "Test TPR:  0.9148574417996338\n",
      "Test Accuracy:  0.7418354314906039\n"
     ]
    }
   ],
   "source": [
    "Accuracy_Test=(confusion_matrix_test_logit[0,0]+confusion_matrix_test_logit[1,1])/(confusion_matrix_test_logit[0,0]+confusion_matrix_test_logit[0,1]+confusion_matrix_test_logit[1,0]+confusion_matrix_test_logit[1,1])\n",
    "TNR_Test= confusion_matrix_test_logit[0,0]/(confusion_matrix_test_logit[0,0] +confusion_matrix_test_logit[0,1])\n",
    "TPR_Test= confusion_matrix_test_logit[1,1]/(confusion_matrix_test_logit[1,0] +confusion_matrix_test_logit[1,1])\n",
    "\n",
    "print(\"Test TNR: \",TNR_Test)\n",
    "print(\"Test TPR: \",TPR_Test)\n",
    "print(\"Test Accuracy: \",Accuracy_Test)"
   ]
  },
  {
   "cell_type": "code",
   "execution_count": null,
   "metadata": {},
   "outputs": [],
   "source": []
  },
  {
   "cell_type": "code",
   "execution_count": null,
   "metadata": {},
   "outputs": [],
   "source": []
  },
  {
   "cell_type": "markdown",
   "metadata": {},
   "source": [
    "# Random forest classifier"
   ]
  },
  {
   "cell_type": "code",
   "execution_count": 67,
   "metadata": {},
   "outputs": [],
   "source": [
    "from sklearn.ensemble import RandomForestClassifier"
   ]
  },
  {
   "cell_type": "code",
   "execution_count": 68,
   "metadata": {},
   "outputs": [],
   "source": [
    "rfc = RandomForestClassifier(n_jobs=-1, max_features='sqrt') \n",
    " \n",
    "# Use a grid over parameters of interest\n",
    "param_grid = { \n",
    "           \"n_estimators\" : [9, 18, 27, 36, 45, 54, 63],\n",
    "           \"max_depth\" : [2,3,5,7],\n",
    "           \"min_samples_leaf\" : [2, 4]}\n",
    "\n",
    "scores = ['precision', 'recall']"
   ]
  },
  {
   "cell_type": "code",
   "execution_count": 69,
   "metadata": {},
   "outputs": [
    {
     "data": {
      "text/plain": [
       "GridSearchCV(cv=5, error_score='raise-deprecating',\n",
       "             estimator=RandomForestClassifier(bootstrap=True, class_weight=None,\n",
       "                                              criterion='gini', max_depth=None,\n",
       "                                              max_features='sqrt',\n",
       "                                              max_leaf_nodes=None,\n",
       "                                              min_impurity_decrease=0.0,\n",
       "                                              min_impurity_split=None,\n",
       "                                              min_samples_leaf=1,\n",
       "                                              min_samples_split=2,\n",
       "                                              min_weight_fraction_leaf=0.0,\n",
       "                                              n_estimators='warn', n_jobs=-1,\n",
       "                                              oob_score=False,\n",
       "                                              random_state=None, verbose=0,\n",
       "                                              warm_start=False),\n",
       "             iid='warn', n_jobs=None,\n",
       "             param_grid={'max_depth': [2, 3, 5, 7], 'min_samples_leaf': [2, 4],\n",
       "                         'n_estimators': [9, 18, 27, 36, 45, 54, 63]},\n",
       "             pre_dispatch='2*n_jobs', refit=True, return_train_score=False,\n",
       "             scoring=None, verbose=0)"
      ]
     },
     "execution_count": 69,
     "metadata": {},
     "output_type": "execute_result"
    }
   ],
   "source": [
    "CV_rfc = GridSearchCV(estimator=rfc, param_grid=param_grid,cv=5)\n",
    "CV_rfc.fit(X=X_train, y=y_train)"
   ]
  },
  {
   "cell_type": "code",
   "execution_count": 70,
   "metadata": {},
   "outputs": [
    {
     "name": "stdout",
     "output_type": "stream",
     "text": [
      "0.7555520800750704 {'max_depth': 7, 'min_samples_leaf': 4, 'n_estimators': 45}\n"
     ]
    }
   ],
   "source": [
    "print(CV_rfc.best_score_, CV_rfc.best_params_)"
   ]
  },
  {
   "cell_type": "code",
   "execution_count": 71,
   "metadata": {},
   "outputs": [],
   "source": [
    "rf_train_pred=CV_rfc.predict(X_train)\n",
    "rf_test_pred=CV_rfc.predict(X_test)"
   ]
  },
  {
   "cell_type": "code",
   "execution_count": 72,
   "metadata": {},
   "outputs": [],
   "source": [
    "confusion_matrix_test_RF = confusion_matrix(y_test,rf_test_pred)\n",
    "confusion_matrix_train_RF= confusion_matrix(y_train, rf_train_pred)"
   ]
  },
  {
   "cell_type": "code",
   "execution_count": 73,
   "metadata": {},
   "outputs": [
    {
     "name": "stdout",
     "output_type": "stream",
     "text": [
      "Train TNR:  0.2729139922978177\n",
      "Train TPR:  0.9727875857415945\n",
      "Train Accuracy:  0.7596183922427275\n"
     ]
    }
   ],
   "source": [
    "Accuracy_Train=(confusion_matrix_train_RF[0,0]+confusion_matrix_train_RF[1,1])/(confusion_matrix_train_RF[0,0]+confusion_matrix_train_RF[0,1]+confusion_matrix_train_RF[1,0]+confusion_matrix_train_RF[1,1])\n",
    "TNR_Train= confusion_matrix_train_RF[0,0]/(confusion_matrix_train_RF[0,0]+confusion_matrix_train_RF[0,1])\n",
    "TPR_Train= confusion_matrix_train_RF[1,1]/(confusion_matrix_train_RF[1,0]+confusion_matrix_train_RF[1,1])\n",
    "\n",
    "print(\"Train TNR: \",TNR_Train)\n",
    "print(\"Train TPR: \",TPR_Train)\n",
    "print(\"Train Accuracy: \",Accuracy_Train)"
   ]
  },
  {
   "cell_type": "markdown",
   "metadata": {},
   "source": []
  },
  {
   "cell_type": "code",
   "execution_count": 74,
   "metadata": {},
   "outputs": [
    {
     "name": "stdout",
     "output_type": "stream",
     "text": [
      "Test TNR:  0.25\n",
      "Test TPR:  0.969918911849333\n",
      "Test Accuracy:  0.7521437693851487\n"
     ]
    }
   ],
   "source": [
    "Accuracy_Test=(confusion_matrix_test_RF[0,0]+confusion_matrix_test_RF[1,1])/(confusion_matrix_test_RF[0,0]+confusion_matrix_test_RF[0,1]+confusion_matrix_test_RF[1,0]+confusion_matrix_test_RF[1,1])\n",
    "TNR_Test= confusion_matrix_test_RF[0,0]/(confusion_matrix_test_RF[0,0] +confusion_matrix_test_RF[0,1])\n",
    "TPR_Test= confusion_matrix_test_RF[1,1]/(confusion_matrix_test_RF[1,0] +confusion_matrix_test_RF[1,1])\n",
    "\n",
    "print(\"Test TNR: \",TNR_Test)\n",
    "print(\"Test TPR: \",TPR_Test)\n",
    "print(\"Test Accuracy: \",Accuracy_Test)"
   ]
  },
  {
   "cell_type": "code",
   "execution_count": 75,
   "metadata": {},
   "outputs": [],
   "source": [
    "pred_RF=CV_rfc.predict(test_final_re_ad.values)"
   ]
  },
  {
   "cell_type": "code",
   "execution_count": 76,
   "metadata": {},
   "outputs": [],
   "source": [
    "test_final_re_ad['pred_RF']=pred_RF"
   ]
  },
  {
   "cell_type": "code",
   "execution_count": 77,
   "metadata": {},
   "outputs": [
    {
     "data": {
      "text/html": [
       "<div>\n",
       "<style scoped>\n",
       "    .dataframe tbody tr th:only-of-type {\n",
       "        vertical-align: middle;\n",
       "    }\n",
       "\n",
       "    .dataframe tbody tr th {\n",
       "        vertical-align: top;\n",
       "    }\n",
       "\n",
       "    .dataframe thead th {\n",
       "        text-align: right;\n",
       "    }\n",
       "</style>\n",
       "<table border=\"1\" class=\"dataframe\">\n",
       "  <thead>\n",
       "    <tr style=\"text-align: right;\">\n",
       "      <th></th>\n",
       "      <th>Num_Lab_Procedures</th>\n",
       "      <th>Num_Procedures</th>\n",
       "      <th>Num_Medications</th>\n",
       "      <th>Race</th>\n",
       "      <th>Gender</th>\n",
       "      <th>Age</th>\n",
       "      <th>Weight</th>\n",
       "      <th>Admission Type</th>\n",
       "      <th>Discharge Disposition</th>\n",
       "      <th>Admission Source</th>\n",
       "      <th>...</th>\n",
       "      <th>Citoglipton</th>\n",
       "      <th>Insulin</th>\n",
       "      <th>Glyburide-Metformin</th>\n",
       "      <th>Glipizide-Metformin</th>\n",
       "      <th>Glimepiride-Pioglitazone</th>\n",
       "      <th>Metformin-Rosiglitazone</th>\n",
       "      <th>Metformin-Pioglitazone</th>\n",
       "      <th>Change</th>\n",
       "      <th>Diabetesmed</th>\n",
       "      <th>pred_RF</th>\n",
       "    </tr>\n",
       "  </thead>\n",
       "  <tbody>\n",
       "    <tr>\n",
       "      <th>0</th>\n",
       "      <td>89</td>\n",
       "      <td>2</td>\n",
       "      <td>27</td>\n",
       "      <td>2</td>\n",
       "      <td>1</td>\n",
       "      <td>8</td>\n",
       "      <td>0</td>\n",
       "      <td>3</td>\n",
       "      <td>1</td>\n",
       "      <td>2</td>\n",
       "      <td>...</td>\n",
       "      <td>0</td>\n",
       "      <td>2</td>\n",
       "      <td>0</td>\n",
       "      <td>0</td>\n",
       "      <td>0</td>\n",
       "      <td>0</td>\n",
       "      <td>0</td>\n",
       "      <td>0</td>\n",
       "      <td>1</td>\n",
       "      <td>1</td>\n",
       "    </tr>\n",
       "    <tr>\n",
       "      <th>1</th>\n",
       "      <td>33</td>\n",
       "      <td>6</td>\n",
       "      <td>8</td>\n",
       "      <td>2</td>\n",
       "      <td>1</td>\n",
       "      <td>5</td>\n",
       "      <td>0</td>\n",
       "      <td>1</td>\n",
       "      <td>1</td>\n",
       "      <td>0</td>\n",
       "      <td>...</td>\n",
       "      <td>0</td>\n",
       "      <td>0</td>\n",
       "      <td>0</td>\n",
       "      <td>0</td>\n",
       "      <td>0</td>\n",
       "      <td>0</td>\n",
       "      <td>0</td>\n",
       "      <td>0</td>\n",
       "      <td>1</td>\n",
       "      <td>1</td>\n",
       "    </tr>\n",
       "    <tr>\n",
       "      <th>2</th>\n",
       "      <td>26</td>\n",
       "      <td>1</td>\n",
       "      <td>11</td>\n",
       "      <td>2</td>\n",
       "      <td>0</td>\n",
       "      <td>4</td>\n",
       "      <td>0</td>\n",
       "      <td>1</td>\n",
       "      <td>1</td>\n",
       "      <td>2</td>\n",
       "      <td>...</td>\n",
       "      <td>0</td>\n",
       "      <td>1</td>\n",
       "      <td>0</td>\n",
       "      <td>0</td>\n",
       "      <td>0</td>\n",
       "      <td>0</td>\n",
       "      <td>0</td>\n",
       "      <td>1</td>\n",
       "      <td>0</td>\n",
       "      <td>1</td>\n",
       "    </tr>\n",
       "    <tr>\n",
       "      <th>3</th>\n",
       "      <td>62</td>\n",
       "      <td>0</td>\n",
       "      <td>14</td>\n",
       "      <td>2</td>\n",
       "      <td>1</td>\n",
       "      <td>8</td>\n",
       "      <td>0</td>\n",
       "      <td>1</td>\n",
       "      <td>1</td>\n",
       "      <td>0</td>\n",
       "      <td>...</td>\n",
       "      <td>0</td>\n",
       "      <td>1</td>\n",
       "      <td>0</td>\n",
       "      <td>0</td>\n",
       "      <td>0</td>\n",
       "      <td>0</td>\n",
       "      <td>0</td>\n",
       "      <td>1</td>\n",
       "      <td>1</td>\n",
       "      <td>1</td>\n",
       "    </tr>\n",
       "    <tr>\n",
       "      <th>4</th>\n",
       "      <td>23</td>\n",
       "      <td>0</td>\n",
       "      <td>7</td>\n",
       "      <td>2</td>\n",
       "      <td>0</td>\n",
       "      <td>7</td>\n",
       "      <td>0</td>\n",
       "      <td>3</td>\n",
       "      <td>1</td>\n",
       "      <td>1</td>\n",
       "      <td>...</td>\n",
       "      <td>0</td>\n",
       "      <td>1</td>\n",
       "      <td>0</td>\n",
       "      <td>0</td>\n",
       "      <td>0</td>\n",
       "      <td>0</td>\n",
       "      <td>0</td>\n",
       "      <td>1</td>\n",
       "      <td>1</td>\n",
       "      <td>1</td>\n",
       "    </tr>\n",
       "  </tbody>\n",
       "</table>\n",
       "<p>5 rows × 42 columns</p>\n",
       "</div>"
      ],
      "text/plain": [
       "   Num_Lab_Procedures  Num_Procedures  Num_Medications  Race  Gender  Age  \\\n",
       "0                  89               2               27     2       1    8   \n",
       "1                  33               6                8     2       1    5   \n",
       "2                  26               1               11     2       0    4   \n",
       "3                  62               0               14     2       1    8   \n",
       "4                  23               0                7     2       0    7   \n",
       "\n",
       "   Weight  Admission Type  Discharge Disposition  Admission Source  ...  \\\n",
       "0       0               3                      1                 2  ...   \n",
       "1       0               1                      1                 0  ...   \n",
       "2       0               1                      1                 2  ...   \n",
       "3       0               1                      1                 0  ...   \n",
       "4       0               3                      1                 1  ...   \n",
       "\n",
       "   Citoglipton  Insulin  Glyburide-Metformin  Glipizide-Metformin  \\\n",
       "0            0        2                    0                    0   \n",
       "1            0        0                    0                    0   \n",
       "2            0        1                    0                    0   \n",
       "3            0        1                    0                    0   \n",
       "4            0        1                    0                    0   \n",
       "\n",
       "   Glimepiride-Pioglitazone  Metformin-Rosiglitazone  Metformin-Pioglitazone  \\\n",
       "0                         0                        0                       0   \n",
       "1                         0                        0                       0   \n",
       "2                         0                        0                       0   \n",
       "3                         0                        0                       0   \n",
       "4                         0                        0                       0   \n",
       "\n",
       "   Change  Diabetesmed  pred_RF  \n",
       "0       0            1        1  \n",
       "1       0            1        1  \n",
       "2       1            0        1  \n",
       "3       1            1        1  \n",
       "4       1            1        1  \n",
       "\n",
       "[5 rows x 42 columns]"
      ]
     },
     "execution_count": 77,
     "metadata": {},
     "output_type": "execute_result"
    }
   ],
   "source": [
    "test_final_re_ad.head()"
   ]
  },
  {
   "cell_type": "code",
   "execution_count": null,
   "metadata": {},
   "outputs": [],
   "source": []
  },
  {
   "cell_type": "markdown",
   "metadata": {},
   "source": [
    "# stacking using 3 of the models above and giving the o/p to the KNN classifier"
   ]
  },
  {
   "cell_type": "code",
   "execution_count": 78,
   "metadata": {},
   "outputs": [],
   "source": [
    "stack_train = pd.DataFrame([rf_train_pred,logistic_train_pred,y_train_xg_pred])\n",
    "stack_test = pd.DataFrame([rf_test_pred,logistic_test_pred,y_val_xg_pred])"
   ]
  },
  {
   "cell_type": "code",
   "execution_count": 79,
   "metadata": {},
   "outputs": [],
   "source": [
    "stack_train = stack_train.T\n",
    "stack_test = stack_test.T"
   ]
  },
  {
   "cell_type": "code",
   "execution_count": 80,
   "metadata": {},
   "outputs": [],
   "source": [
    "stack_train.columns = ['rf_train_pred','logistic_train_pred','y_train_xg_pred']\n",
    "stack_test.columns = ['rf_test_pred','logistic_test_pred','y_val_xg_pred']"
   ]
  },
  {
   "cell_type": "code",
   "execution_count": 81,
   "metadata": {},
   "outputs": [
    {
     "name": "stdout",
     "output_type": "stream",
     "text": [
      "(25576, 3)\n",
      "(10962, 3)\n"
     ]
    }
   ],
   "source": [
    "print(stack_train.shape)\n",
    "print(stack_test.shape)"
   ]
  },
  {
   "cell_type": "code",
   "execution_count": 82,
   "metadata": {},
   "outputs": [],
   "source": [
    "from sklearn.neighbors import KNeighborsClassifier"
   ]
  },
  {
   "cell_type": "code",
   "execution_count": 85,
   "metadata": {},
   "outputs": [
    {
     "name": "stdout",
     "output_type": "stream",
     "text": [
      "Fitting 10 folds for each of 8 candidates, totalling 80 fits\n"
     ]
    },
    {
     "name": "stderr",
     "output_type": "stream",
     "text": [
      "[Parallel(n_jobs=1)]: Using backend SequentialBackend with 1 concurrent workers.\n",
      "[Parallel(n_jobs=1)]: Done  80 out of  80 | elapsed:   41.3s finished\n"
     ]
    },
    {
     "data": {
      "text/plain": [
       "GridSearchCV(cv=10, error_score='raise-deprecating',\n",
       "             estimator=KNeighborsClassifier(algorithm='auto', leaf_size=30,\n",
       "                                            metric='euclidean',\n",
       "                                            metric_params=None, n_jobs=-1,\n",
       "                                            n_neighbors=5, p=2,\n",
       "                                            weights='uniform'),\n",
       "             iid='warn', n_jobs=None,\n",
       "             param_grid={'n_neighbors': [2, 3, 4, 5, 6, 7, 8, 9]},\n",
       "             pre_dispatch='2*n_jobs', refit=True, return_train_score=False,\n",
       "             scoring=None, verbose=1)"
      ]
     },
     "execution_count": 85,
     "metadata": {},
     "output_type": "execute_result"
    }
   ],
   "source": [
    "parameters = {'n_neighbors':list(range(2,10))}\n",
    "\n",
    "knn_stack = GridSearchCV(KNeighborsClassifier(algorithm = 'auto', metric=\"euclidean\", n_jobs=-1),\n",
    "                   parameters,verbose=1, cv=10)\n",
    "\n",
    "knn_stack.fit(stack_train,y_train)"
   ]
  },
  {
   "cell_type": "code",
   "execution_count": 86,
   "metadata": {},
   "outputs": [
    {
     "name": "stdout",
     "output_type": "stream",
     "text": [
      "KNeighborsClassifier(algorithm='auto', leaf_size=30, metric='euclidean',\n",
      "                     metric_params=None, n_jobs=-1, n_neighbors=9, p=2,\n",
      "                     weights='uniform')\n"
     ]
    }
   ],
   "source": [
    "print(knn_stack.best_estimator_)"
   ]
  },
  {
   "cell_type": "code",
   "execution_count": 87,
   "metadata": {},
   "outputs": [],
   "source": [
    "stacked_pred_train = knn_stack.predict(stack_train)\n",
    "stacked_pred_test = knn_stack.predict(stack_test)"
   ]
  },
  {
   "cell_type": "code",
   "execution_count": 89,
   "metadata": {},
   "outputs": [],
   "source": [
    "confusion_matrix_test_stack = confusion_matrix(y_test,stacked_pred_test)\n",
    "confusion_matrix_train_stack= confusion_matrix(y_train, stacked_pred_train)"
   ]
  },
  {
   "cell_type": "code",
   "execution_count": 90,
   "metadata": {},
   "outputs": [
    {
     "name": "stdout",
     "output_type": "stream",
     "text": [
      "Train TNR:  0.3277278562259307\n",
      "Train TPR:  0.9591251546159901\n",
      "Train Accuracy:  0.7668126368470441\n"
     ]
    }
   ],
   "source": [
    "Accuracy_Train=(confusion_matrix_train_stack[0,0]+confusion_matrix_train_stack[1,1])/(confusion_matrix_train_stack[0,0]+confusion_matrix_train_stack[0,1]+confusion_matrix_train_stack[1,0]+confusion_matrix_train_stack[1,1])\n",
    "TNR_Train= confusion_matrix_train_stack[0,0]/(confusion_matrix_train_stack[0,0]+confusion_matrix_train_stack[0,1])\n",
    "TPR_Train= confusion_matrix_train_stack[1,1]/(confusion_matrix_train_stack[1,0]+confusion_matrix_train_stack[1,1])\n",
    "\n",
    "print(\"Train TNR: \",TNR_Train)\n",
    "print(\"Train TPR: \",TPR_Train)\n",
    "print(\"Train Accuracy: \",Accuracy_Train)"
   ]
  },
  {
   "cell_type": "code",
   "execution_count": 91,
   "metadata": {},
   "outputs": [
    {
     "name": "stdout",
     "output_type": "stream",
     "text": [
      "Test TNR:  0.3277278562259307\n",
      "Test TPR:  0.9591251546159901\n",
      "Test Accuracy:  1.2309044122261972\n"
     ]
    }
   ],
   "source": [
    "Accuracy_Test=(confusion_matrix_test_stack[0,0]+confusion_matrix_test_stack[1,1])/(confusion_matrix_test_stack[0,0]+confusion_matrix_test_stack[0,1]+confusion_matrix_test_stack[1,0]+confusion_matrix_test_stack[1,1])\n",
    "TNR_Test= confusion_matrix_test_stack[0,0]/(confusion_matrix_test_stack[0,0] +confusion_matrix_test_stack[0,1])\n",
    "TPR_Test= confusion_matrix_test_stack[1,1]/(confusion_matrix_test_stack[1,0] +confusion_matrix_test_stack[1,1])\n",
    "\n",
    "print(\"Test TNR: \",TNR_Test)\n",
    "print(\"Test TPR: \",TPR_Test)\n",
    "print(\"Test Accuracy: \",Accuracy_Test)"
   ]
  },
  {
   "cell_type": "code",
   "execution_count": null,
   "metadata": {},
   "outputs": [],
   "source": []
  }
 ],
 "metadata": {
  "kernelspec": {
   "display_name": "Python 3",
   "language": "python",
   "name": "python3"
  },
  "language_info": {
   "codemirror_mode": {
    "name": "ipython",
    "version": 3
   },
   "file_extension": ".py",
   "mimetype": "text/x-python",
   "name": "python",
   "nbconvert_exporter": "python",
   "pygments_lexer": "ipython3",
   "version": "3.7.3"
  }
 },
 "nbformat": 4,
 "nbformat_minor": 2
}
